{
 "cells": [
  {
   "cell_type": "code",
   "execution_count": 1,
   "id": "8d21bed6-6d54-4e3f-b5db-0730f86200d1",
   "metadata": {},
   "outputs": [],
   "source": [
    "def fibo(x):\n",
    "    if(x==0):\n",
    "        return 0\n",
    "    \n",
    "    \n",
    "    elif (x==1):\n",
    "        return 1\n",
    "    \n",
    "    else:\n",
    "        return fibo(x-2)+fibo(x-1)\n",
    "\n"
   ]
  },
  {
   "cell_type": "code",
   "execution_count": 3,
   "id": "7d5b96bb-283a-4183-84de-f7de0990a3cf",
   "metadata": {},
   "outputs": [
    {
     "name": "stdin",
     "output_type": "stream",
     "text": [
      "enter fibo # 5\n"
     ]
    },
    {
     "data": {
      "text/plain": [
       "[0, 1, 1, 2, 3, 5]"
      ]
     },
     "execution_count": 3,
     "metadata": {},
     "output_type": "execute_result"
    }
   ],
   "source": [
    "x = int(input(\"enter fibo #\"))\n",
    "l1 = []\n",
    "for i in range (0,x+1):\n",
    "    l1.append(fibo(i))\n",
    "l1"
   ]
  },
  {
   "cell_type": "markdown",
   "id": "56ed7e00-b97c-4442-bcbf-f5e8b45e940b",
   "metadata": {},
   "source": [
    "# Write a function that inputs a number and prints the multiplication table of that number"
   ]
  },
  {
   "cell_type": "code",
   "execution_count": 39,
   "id": "a9259bf6-9e10-48c3-b580-ecc141ec7178",
   "metadata": {},
   "outputs": [],
   "source": [
    "def a(x):\n",
    "  \n",
    "    x=int(input(\"number\"))\n",
    "    for i in range (1,11):\n",
    "        print(\"{x}*{i}={c}\".format(x=x,i=i,c=x*i))\n",
    "\n",
    "        "
   ]
  },
  {
   "cell_type": "code",
   "execution_count": 34,
   "id": "198bc48e-1629-4aa7-8a88-a6aa1ae88b26",
   "metadata": {},
   "outputs": [
    {
     "name": "stdout",
     "output_type": "stream",
     "text": [
      "3*1=3\n",
      "3*2=6\n",
      "3*3=9\n",
      "3*4=12\n",
      "3*5=15\n",
      "3*6=18\n",
      "3*7=21\n",
      "3*8=24\n",
      "3*9=27\n",
      "3*10=30\n"
     ]
    }
   ],
   "source": [
    "a(3)"
   ]
  },
  {
   "cell_type": "code",
   "execution_count": null,
   "id": "514adb1f-e0c5-463a-9493-7b1d10700993",
   "metadata": {},
   "outputs": [],
   "source": []
  },
  {
   "cell_type": "code",
   "execution_count": 40,
   "id": "22d79517-803c-449d-aefe-e5f90e842092",
   "metadata": {},
   "outputs": [
    {
     "name": "stdin",
     "output_type": "stream",
     "text": [
      "number 4\n"
     ]
    },
    {
     "name": "stdout",
     "output_type": "stream",
     "text": [
      "4*1=4\n",
      "4*2=8\n",
      "4*3=12\n",
      "4*4=16\n",
      "4*5=20\n",
      "4*6=24\n",
      "4*7=28\n",
      "4*8=32\n",
      "4*9=36\n",
      "4*10=40\n"
     ]
    }
   ],
   "source": [
    "a(x)"
   ]
  },
  {
   "cell_type": "code",
   "execution_count": 41,
   "id": "eaf4c87c-23fe-46ee-aea5-6772f9a738af",
   "metadata": {},
   "outputs": [
    {
     "name": "stdin",
     "output_type": "stream",
     "text": [
      "number 6\n"
     ]
    },
    {
     "name": "stdout",
     "output_type": "stream",
     "text": [
      "6*1=6\n",
      "6*2=12\n",
      "6*3=18\n",
      "6*4=24\n",
      "6*5=30\n",
      "6*6=36\n",
      "6*7=42\n",
      "6*8=48\n",
      "6*9=54\n",
      "6*10=60\n"
     ]
    }
   ],
   "source": [
    "a(3)"
   ]
  },
  {
   "cell_type": "markdown",
   "id": "8c9925d1-7c0b-43dc-bd37-a66e76b3b051",
   "metadata": {},
   "source": [
    "# Write a program to print twin primes less than 1000. If two consecutive odd numbers are both prime then they are known as twin primes¶"
   ]
  },
  {
   "cell_type": "code",
   "execution_count": 74,
   "id": "cb3b3f1e-9561-4a94-a18e-7fcfb62d8cb0",
   "metadata": {},
   "outputs": [
    {
     "name": "stdout",
     "output_type": "stream",
     "text": [
      "3 & 5\n",
      "5 & 7\n",
      "11 & 13\n",
      "17 & 19\n",
      "29 & 31\n",
      "41 & 43\n",
      "59 & 61\n",
      "71 & 73\n",
      "101 & 103\n",
      "107 & 109\n",
      "137 & 139\n",
      "149 & 151\n",
      "179 & 181\n",
      "191 & 193\n",
      "197 & 199\n",
      "227 & 229\n",
      "239 & 241\n",
      "269 & 271\n",
      "281 & 283\n",
      "311 & 313\n",
      "347 & 349\n",
      "419 & 421\n",
      "431 & 433\n",
      "461 & 463\n",
      "521 & 523\n",
      "569 & 571\n",
      "599 & 601\n",
      "617 & 619\n",
      "641 & 643\n",
      "659 & 661\n",
      "809 & 811\n",
      "821 & 823\n",
      "827 & 829\n",
      "857 & 859\n",
      "881 & 883\n"
     ]
    }
   ],
   "source": [
    "def prime(max_number):\n",
    "    for num in range (2,max_number):\n",
    "        if max_number % num == 0:\n",
    "            return False\n",
    "    return True\n",
    "\n",
    "def twin_prime(max_number):\n",
    "    for first_prime in range (2,max_number):\n",
    "        second_prime = first_prime + 2\n",
    "        if (prime(first_prime) and prime(second_prime)):\n",
    "            print (\"{0} & {1}\".format(first_prime,second_prime))\n",
    "twin_prime(1000)"
   ]
  },
  {
   "cell_type": "code",
   "execution_count": 2,
   "id": "a6da30ae-34d7-4a50-b1e4-1e95722992b8",
   "metadata": {},
   "outputs": [
    {
     "name": "stdout",
     "output_type": "stream",
     "text": [
      "['w', 'o', 'r', 'd']\n"
     ]
    }
   ],
   "source": [
    "a=\"word\"\n",
    "x=list(a)\n",
    "print(x)"
   ]
  },
  {
   "cell_type": "code",
   "execution_count": 56,
   "id": "496c418c-af5b-418b-b183-5fc76f89cafb",
   "metadata": {},
   "outputs": [
    {
     "name": "stdin",
     "output_type": "stream",
     "text": [
      "give me words nitin\n"
     ]
    },
    {
     "name": "stdout",
     "output_type": "stream",
     "text": [
      "yes\n"
     ]
    }
   ],
   "source": [
    "x=input(\"give me words\")\n",
    "a=list(x)\n",
    "b=list(x)[::-1]\n",
    "\n",
    "if a==b:\n",
    "    print (\"yes\")\n",
    "\n",
    "else:\n",
    "    print(\"no\")"
   ]
  },
  {
   "cell_type": "code",
   "execution_count": 50,
   "id": "2abae93a-15a3-4597-b1cb-919bfa854cdb",
   "metadata": {},
   "outputs": [
    {
     "data": {
      "text/plain": [
       "['d', 'e', 'c', 'o']"
      ]
     },
     "execution_count": 50,
     "metadata": {},
     "output_type": "execute_result"
    }
   ],
   "source": [
    "a"
   ]
  },
  {
   "cell_type": "code",
   "execution_count": 51,
   "id": "b00474bc-e39a-4069-9226-ed18a5a7ede0",
   "metadata": {},
   "outputs": [
    {
     "data": {
      "text/plain": [
       "['o', 'c', 'e', 'd']"
      ]
     },
     "execution_count": 51,
     "metadata": {},
     "output_type": "execute_result"
    }
   ],
   "source": [
    "b"
   ]
  },
  {
   "cell_type": "code",
   "execution_count": null,
   "id": "a5563df2-bb4e-4e79-a34a-5d31d824719e",
   "metadata": {},
   "outputs": [],
   "source": []
  },
  {
   "cell_type": "code",
   "execution_count": null,
   "id": "cde818e8-41d1-45a8-bed0-4c4d3071e935",
   "metadata": {},
   "outputs": [],
   "source": []
  },
  {
   "cell_type": "code",
   "execution_count": null,
   "id": "ac4e8b79-3862-4d79-86d8-55e7e5315621",
   "metadata": {},
   "outputs": [],
   "source": []
  },
  {
   "cell_type": "code",
   "execution_count": null,
   "id": "ffced8ff-e6ab-49dc-857b-344b8533e6eb",
   "metadata": {},
   "outputs": [],
   "source": []
  },
  {
   "cell_type": "code",
   "execution_count": null,
   "id": "277f2ce5-e0c7-4c94-b698-2a4063bcfa40",
   "metadata": {},
   "outputs": [],
   "source": []
  },
  {
   "cell_type": "code",
   "execution_count": 7,
   "id": "e9af0bac-81d4-415b-a023-86f003e819b9",
   "metadata": {},
   "outputs": [],
   "source": [
    "# #if a==b:\n",
    "#     print(\"palindrome\")\n",
    "# else:\n",
    "#     print(\"not a palindrome\")"
   ]
  },
  {
   "cell_type": "code",
   "execution_count": null,
   "id": "e60c5cab-287a-499b-8a58-05b1b47f54c9",
   "metadata": {},
   "outputs": [],
   "source": []
  },
  {
   "cell_type": "code",
   "execution_count": 46,
   "id": "945fec37-8711-4c3f-8cdc-3abaade6642a",
   "metadata": {},
   "outputs": [
    {
     "name": "stdout",
     "output_type": "stream",
     "text": [
      "['word']\n"
     ]
    }
   ],
   "source": [
    "a=(\"word\")\n",
    "b=a.split()[::-1]\n",
    "print(b)"
   ]
  },
  {
   "cell_type": "code",
   "execution_count": null,
   "id": "8799c6d7-1f19-4295-812c-65de0d4e74d2",
   "metadata": {},
   "outputs": [],
   "source": []
  },
  {
   "cell_type": "code",
   "execution_count": null,
   "id": "83836926-c477-4ed8-aa39-237bff109422",
   "metadata": {},
   "outputs": [],
   "source": []
  },
  {
   "cell_type": "code",
   "execution_count": null,
   "id": "6ccec3dd-1ab3-4715-8b6d-5a4c678db1b5",
   "metadata": {},
   "outputs": [],
   "source": []
  },
  {
   "cell_type": "code",
   "execution_count": null,
   "id": "27ae906d-387f-4e02-ad1e-c23a6a8d8959",
   "metadata": {},
   "outputs": [],
   "source": []
  },
  {
   "cell_type": "code",
   "execution_count": null,
   "id": "e70a7258-c628-479e-8679-ba3d8ca21f49",
   "metadata": {},
   "outputs": [],
   "source": []
  },
  {
   "cell_type": "code",
   "execution_count": 3,
   "id": "fdc37b23-37ff-4ba5-95bb-6248dacddc2f",
   "metadata": {},
   "outputs": [],
   "source": [
    "a=np.array([1,2,3,4])\n",
    "b=np.array(["
   ]
  },
  {
   "cell_type": "code",
   "execution_count": null,
   "id": "9df03669-31fc-4f7c-9ea3-563cdaa07be6",
   "metadata": {},
   "outputs": [],
   "source": []
  },
  {
   "cell_type": "code",
   "execution_count": 2,
   "id": "40a79792-501c-48d6-b90f-9020a804af04",
   "metadata": {},
   "outputs": [],
   "source": [
    "import sys\n",
    "import numpy as np"
   ]
  },
  {
   "cell_type": "code",
   "execution_count": null,
   "id": "73837428-31fe-42a9-b7d2-c40eb0a17d79",
   "metadata": {},
   "outputs": [],
   "source": []
  },
  {
   "cell_type": "code",
   "execution_count": 4,
   "id": "fbf5d7b5-c35b-48d9-94c3-3ca68a9a5d82",
   "metadata": {},
   "outputs": [
    {
     "data": {
      "text/plain": [
       "1"
      ]
     },
     "execution_count": 4,
     "metadata": {},
     "output_type": "execute_result"
    }
   ],
   "source": [
    "a[0]"
   ]
  },
  {
   "cell_type": "code",
   "execution_count": 5,
   "id": "4b61ed85-6f0b-426e-871c-0bbd6f9701a0",
   "metadata": {},
   "outputs": [
    {
     "data": {
      "text/plain": [
       "array([1, 2, 3, 4])"
      ]
     },
     "execution_count": 5,
     "metadata": {},
     "output_type": "execute_result"
    }
   ],
   "source": [
    "a[0:]"
   ]
  },
  {
   "cell_type": "code",
   "execution_count": 6,
   "id": "d6e52672-00d6-463f-9de8-4bc02358ee2b",
   "metadata": {},
   "outputs": [
    {
     "data": {
      "text/plain": [
       "array([1, 2, 3])"
      ]
     },
     "execution_count": 6,
     "metadata": {},
     "output_type": "execute_result"
    }
   ],
   "source": [
    "a[0:3]"
   ]
  },
  {
   "cell_type": "code",
   "execution_count": 7,
   "id": "bfef9c8c-c723-45e6-9f85-1db517d754d7",
   "metadata": {},
   "outputs": [
    {
     "data": {
      "text/plain": [
       "array([1, 3, 4])"
      ]
     },
     "execution_count": 7,
     "metadata": {},
     "output_type": "execute_result"
    }
   ],
   "source": [
    "a[[0,2,3]]"
   ]
  },
  {
   "cell_type": "code",
   "execution_count": null,
   "id": "a88bb206-316f-4a46-8f33-a6a04ebfb0e7",
   "metadata": {},
   "outputs": [],
   "source": []
  },
  {
   "cell_type": "code",
   "execution_count": null,
   "id": "1d93f9dd-c4a0-4417-a1eb-6daec6d8f1d7",
   "metadata": {},
   "outputs": [],
   "source": []
  },
  {
   "cell_type": "code",
   "execution_count": null,
   "id": "2c8e8162-4ace-4cac-8564-44aeb4b1496f",
   "metadata": {},
   "outputs": [],
   "source": []
  },
  {
   "cell_type": "code",
   "execution_count": null,
   "id": "756dfbfb-27b7-48e9-8bd0-bc1c3455bc96",
   "metadata": {},
   "outputs": [],
   "source": []
  },
  {
   "cell_type": "code",
   "execution_count": null,
   "id": "9b16ecdb-be7d-49ac-8e74-d5fd1af24682",
   "metadata": {},
   "outputs": [],
   "source": []
  },
  {
   "cell_type": "code",
   "execution_count": null,
   "id": "4c3a912b-862f-4fcc-b42c-8534504d2bac",
   "metadata": {},
   "outputs": [],
   "source": []
  },
  {
   "cell_type": "code",
   "execution_count": null,
   "id": "f0f924a4-e7c5-4c22-9668-97ad716e2c9b",
   "metadata": {},
   "outputs": [],
   "source": []
  },
  {
   "cell_type": "code",
   "execution_count": null,
   "id": "20afff00-d3f1-4db7-9ade-c6284248d3b9",
   "metadata": {},
   "outputs": [],
   "source": []
  },
  {
   "cell_type": "code",
   "execution_count": null,
   "id": "4402fe6d-03e0-4566-91c1-af61fd0f81f8",
   "metadata": {},
   "outputs": [],
   "source": []
  },
  {
   "cell_type": "code",
   "execution_count": null,
   "id": "d1e37cab-6470-4893-9f7a-4a9ce24e5f76",
   "metadata": {},
   "outputs": [],
   "source": []
  },
  {
   "cell_type": "code",
   "execution_count": null,
   "id": "2a66661c-d8c5-4129-a44d-0216e66a1af6",
   "metadata": {},
   "outputs": [],
   "source": []
  },
  {
   "cell_type": "code",
   "execution_count": null,
   "id": "b0279588-7a1b-4fa1-b274-8a97397e3309",
   "metadata": {},
   "outputs": [],
   "source": []
  },
  {
   "cell_type": "code",
   "execution_count": null,
   "id": "03ac5526-739b-458f-b41e-c6a6b6704bec",
   "metadata": {},
   "outputs": [],
   "source": []
  },
  {
   "cell_type": "code",
   "execution_count": null,
   "id": "60e159d9-ed3a-4cb7-8da3-dfbbe9f06c41",
   "metadata": {},
   "outputs": [],
   "source": []
  },
  {
   "cell_type": "code",
   "execution_count": null,
   "id": "77fca73e-2219-4e05-962a-f5d056c013a7",
   "metadata": {},
   "outputs": [],
   "source": []
  },
  {
   "cell_type": "code",
   "execution_count": null,
   "id": "79115095-eb9f-4c4f-b0c2-1bd2022660bb",
   "metadata": {},
   "outputs": [],
   "source": []
  },
  {
   "cell_type": "code",
   "execution_count": null,
   "id": "5a38e581-25f3-4a65-99fc-474013d2d471",
   "metadata": {},
   "outputs": [],
   "source": []
  },
  {
   "cell_type": "code",
   "execution_count": null,
   "id": "48ae4508-03ab-4cdf-888d-6df465cd2c16",
   "metadata": {},
   "outputs": [],
   "source": []
  },
  {
   "cell_type": "code",
   "execution_count": null,
   "id": "b9a53621-a848-4797-9587-cf8fd7f063a9",
   "metadata": {},
   "outputs": [],
   "source": []
  },
  {
   "cell_type": "code",
   "execution_count": null,
   "id": "1d0da545-18a3-4005-8eb5-3b71afc8e6a3",
   "metadata": {},
   "outputs": [],
   "source": []
  },
  {
   "cell_type": "code",
   "execution_count": null,
   "id": "16ca3ee2-f395-4338-9172-7bdc96228ae1",
   "metadata": {},
   "outputs": [],
   "source": []
  },
  {
   "cell_type": "code",
   "execution_count": null,
   "id": "55fb9d65-9c92-4a85-ba97-1fda761cd7f3",
   "metadata": {},
   "outputs": [],
   "source": []
  },
  {
   "cell_type": "code",
   "execution_count": null,
   "id": "79a45b54-7914-497d-a15f-d8d1f6932ea8",
   "metadata": {},
   "outputs": [],
   "source": []
  },
  {
   "cell_type": "code",
   "execution_count": null,
   "id": "1f00942a-bfee-423e-bc0c-7add6ffa0540",
   "metadata": {},
   "outputs": [],
   "source": []
  },
  {
   "cell_type": "code",
   "execution_count": null,
   "id": "d9220cc9-e8e5-451e-b4b4-6a8a479120a8",
   "metadata": {},
   "outputs": [],
   "source": []
  },
  {
   "cell_type": "code",
   "execution_count": null,
   "id": "5bab87d8-48a9-4af7-bdd0-407c89eb58b3",
   "metadata": {},
   "outputs": [],
   "source": []
  },
  {
   "cell_type": "code",
   "execution_count": null,
   "id": "946d004b-7bcb-433f-895b-9fba96858dad",
   "metadata": {},
   "outputs": [],
   "source": []
  },
  {
   "cell_type": "code",
   "execution_count": null,
   "id": "0f6f5be0-2eed-4a76-ae3e-633e2fad65c4",
   "metadata": {},
   "outputs": [],
   "source": []
  },
  {
   "cell_type": "code",
   "execution_count": null,
   "id": "fa312c2f-0299-4ec7-a9ed-d4e1dfb9a9ed",
   "metadata": {},
   "outputs": [],
   "source": []
  },
  {
   "cell_type": "code",
   "execution_count": null,
   "id": "de3ecdb9-0ea9-42eb-b038-c289e2e9aff0",
   "metadata": {},
   "outputs": [],
   "source": []
  },
  {
   "cell_type": "code",
   "execution_count": null,
   "id": "6a51fdf7-6b41-4069-a93e-1e8f631d697e",
   "metadata": {},
   "outputs": [],
   "source": []
  },
  {
   "cell_type": "code",
   "execution_count": null,
   "id": "d57dd48e-301d-430d-b4ea-c3bc0792dd5d",
   "metadata": {},
   "outputs": [],
   "source": []
  },
  {
   "cell_type": "code",
   "execution_count": null,
   "id": "af85dfe0-5802-44da-8249-c8abf70ecea4",
   "metadata": {},
   "outputs": [],
   "source": []
  },
  {
   "cell_type": "code",
   "execution_count": null,
   "id": "e22d6ea6-fb82-4084-ad0d-9335be55d7db",
   "metadata": {},
   "outputs": [],
   "source": []
  },
  {
   "cell_type": "code",
   "execution_count": null,
   "id": "3b8b25cc-e877-488c-8d78-7e0a1a0839f1",
   "metadata": {},
   "outputs": [],
   "source": []
  },
  {
   "cell_type": "code",
   "execution_count": null,
   "id": "cdc1523a-1fe5-49e7-87ff-72ac6035de72",
   "metadata": {},
   "outputs": [],
   "source": []
  },
  {
   "cell_type": "code",
   "execution_count": null,
   "id": "bf7c5e8d-9a59-416a-a3c7-f86c35eb1c02",
   "metadata": {},
   "outputs": [],
   "source": []
  },
  {
   "cell_type": "code",
   "execution_count": null,
   "id": "0688cc89-34d5-4477-9d34-a787d250b206",
   "metadata": {},
   "outputs": [],
   "source": []
  },
  {
   "cell_type": "code",
   "execution_count": null,
   "id": "8c0eb0c5-6b52-4615-bb44-c06f0053125a",
   "metadata": {},
   "outputs": [],
   "source": []
  },
  {
   "cell_type": "code",
   "execution_count": null,
   "id": "9ddd4698-4569-4e56-a504-77a4a09eac10",
   "metadata": {},
   "outputs": [],
   "source": []
  },
  {
   "cell_type": "code",
   "execution_count": null,
   "id": "1d65aa86-857b-4b0d-a9ac-aa92a457eafe",
   "metadata": {},
   "outputs": [],
   "source": []
  },
  {
   "cell_type": "code",
   "execution_count": null,
   "id": "6d8fe2a4-0897-4c17-a1da-28bcd4b38fae",
   "metadata": {},
   "outputs": [],
   "source": []
  },
  {
   "cell_type": "code",
   "execution_count": null,
   "id": "8ee875a7-94f9-44f9-a7c8-677e3f01ab20",
   "metadata": {},
   "outputs": [],
   "source": []
  },
  {
   "cell_type": "code",
   "execution_count": null,
   "id": "d715d28a-6ee8-4ffd-a08c-2481ef471c5e",
   "metadata": {},
   "outputs": [],
   "source": []
  },
  {
   "cell_type": "code",
   "execution_count": null,
   "id": "1e006842-df80-4e95-8ea6-94299f01ed31",
   "metadata": {},
   "outputs": [],
   "source": []
  },
  {
   "cell_type": "code",
   "execution_count": null,
   "id": "65454c9a-bd1a-44f3-84e5-3869eaaf31a6",
   "metadata": {},
   "outputs": [],
   "source": []
  },
  {
   "cell_type": "code",
   "execution_count": null,
   "id": "61efbb1f-82af-4642-a328-82e5a6438662",
   "metadata": {},
   "outputs": [],
   "source": []
  },
  {
   "cell_type": "code",
   "execution_count": null,
   "id": "c26c0d8e-a998-4a17-bbc8-eaddcd77cea8",
   "metadata": {},
   "outputs": [],
   "source": []
  },
  {
   "cell_type": "code",
   "execution_count": null,
   "id": "3589be4a-96e3-4304-8a1b-7c79a9fb8a37",
   "metadata": {},
   "outputs": [],
   "source": []
  },
  {
   "cell_type": "code",
   "execution_count": null,
   "id": "b769c1d9-7a16-41e6-bbc8-959829b3f468",
   "metadata": {},
   "outputs": [],
   "source": []
  },
  {
   "cell_type": "code",
   "execution_count": null,
   "id": "a79334f9-b0e8-42c1-85ef-20aa98e4dde3",
   "metadata": {},
   "outputs": [],
   "source": []
  },
  {
   "cell_type": "code",
   "execution_count": null,
   "id": "9fcc4b89-8460-4763-b104-0500a4755908",
   "metadata": {},
   "outputs": [],
   "source": []
  },
  {
   "cell_type": "code",
   "execution_count": null,
   "id": "ed42e19d-cc44-4e17-a953-99e6645047a3",
   "metadata": {},
   "outputs": [],
   "source": []
  },
  {
   "cell_type": "code",
   "execution_count": null,
   "id": "843f6f35-8ddf-4f6d-8502-ada2db693dd3",
   "metadata": {},
   "outputs": [],
   "source": []
  },
  {
   "cell_type": "code",
   "execution_count": null,
   "id": "7581cb27-e4e3-47c7-9b5b-8e5510db7cd7",
   "metadata": {},
   "outputs": [],
   "source": []
  },
  {
   "cell_type": "code",
   "execution_count": null,
   "id": "d0468995-c328-40ca-84d6-a8cc2f74ecd1",
   "metadata": {},
   "outputs": [],
   "source": []
  },
  {
   "cell_type": "code",
   "execution_count": null,
   "id": "cdf2ce49-5c58-4c31-86bc-3ae85a1de0a3",
   "metadata": {},
   "outputs": [],
   "source": []
  },
  {
   "cell_type": "code",
   "execution_count": null,
   "id": "0ac2455d-5fb6-4cd2-9a8e-2af7ce7b6393",
   "metadata": {},
   "outputs": [],
   "source": []
  },
  {
   "cell_type": "code",
   "execution_count": null,
   "id": "dae52e18-e9a1-4bbf-8b96-203e961d8ed2",
   "metadata": {},
   "outputs": [],
   "source": []
  },
  {
   "cell_type": "code",
   "execution_count": null,
   "id": "c7ac2ed3-1eed-48b0-b137-fbc600ed6491",
   "metadata": {},
   "outputs": [],
   "source": []
  },
  {
   "cell_type": "code",
   "execution_count": null,
   "id": "9a5dc854-308d-4d3a-a933-bcd3e94112da",
   "metadata": {},
   "outputs": [],
   "source": []
  },
  {
   "cell_type": "code",
   "execution_count": null,
   "id": "58f8c645-c7d3-4625-bdfe-3b5674fcce75",
   "metadata": {},
   "outputs": [],
   "source": []
  },
  {
   "cell_type": "code",
   "execution_count": null,
   "id": "b311ef89-54ee-4035-8480-2037a65c086f",
   "metadata": {},
   "outputs": [],
   "source": []
  },
  {
   "cell_type": "code",
   "execution_count": null,
   "id": "25344bdb-2c4f-4e70-809a-b524654d3c10",
   "metadata": {},
   "outputs": [],
   "source": []
  },
  {
   "cell_type": "code",
   "execution_count": null,
   "id": "012eccd8-39cc-4cb5-b603-9261e4f1d93d",
   "metadata": {},
   "outputs": [],
   "source": []
  },
  {
   "cell_type": "code",
   "execution_count": null,
   "id": "e3610cd1-e0cf-43fe-b9cc-391abfc8fd35",
   "metadata": {},
   "outputs": [],
   "source": []
  },
  {
   "cell_type": "code",
   "execution_count": null,
   "id": "18fc2b84-5610-4e57-9d02-6e400b361af4",
   "metadata": {},
   "outputs": [],
   "source": []
  },
  {
   "cell_type": "code",
   "execution_count": null,
   "id": "760f0622-97cc-417d-9bcf-b4efdb9cbe06",
   "metadata": {},
   "outputs": [],
   "source": []
  },
  {
   "cell_type": "code",
   "execution_count": null,
   "id": "f56ee5aa-73a1-4bf9-8ae1-887ceef38844",
   "metadata": {},
   "outputs": [],
   "source": []
  },
  {
   "cell_type": "code",
   "execution_count": null,
   "id": "7bb69166-bde0-4fc3-967f-8685bdefeee9",
   "metadata": {},
   "outputs": [],
   "source": []
  },
  {
   "cell_type": "code",
   "execution_count": null,
   "id": "9d113c20-a6d7-430d-9bcb-21c51a6f92ac",
   "metadata": {},
   "outputs": [],
   "source": []
  },
  {
   "cell_type": "code",
   "execution_count": null,
   "id": "cd0a7067-baa4-42fc-b230-399cade01ccf",
   "metadata": {},
   "outputs": [],
   "source": []
  },
  {
   "cell_type": "code",
   "execution_count": null,
   "id": "33d445a4-03d5-49d3-a86f-bbde4d511032",
   "metadata": {},
   "outputs": [],
   "source": []
  },
  {
   "cell_type": "code",
   "execution_count": null,
   "id": "dd6a93f4-a13b-46a8-9b5a-3d21e28793d5",
   "metadata": {},
   "outputs": [],
   "source": []
  },
  {
   "cell_type": "code",
   "execution_count": null,
   "id": "3ae751aa-b81b-43a4-ac06-e8baeaa302cc",
   "metadata": {},
   "outputs": [],
   "source": []
  },
  {
   "cell_type": "code",
   "execution_count": null,
   "id": "f37b592d-6ee0-42dc-a02c-14134ae0a0fc",
   "metadata": {},
   "outputs": [],
   "source": []
  },
  {
   "cell_type": "code",
   "execution_count": null,
   "id": "160c2ae2-ee76-4962-b829-e17c96584699",
   "metadata": {},
   "outputs": [],
   "source": []
  },
  {
   "cell_type": "code",
   "execution_count": null,
   "id": "2da92335-3185-4f46-92d4-3c715bd5c03d",
   "metadata": {},
   "outputs": [],
   "source": []
  },
  {
   "cell_type": "code",
   "execution_count": null,
   "id": "1992ba3b-0f22-4274-a859-8cb6d1c521fe",
   "metadata": {},
   "outputs": [],
   "source": []
  },
  {
   "cell_type": "code",
   "execution_count": null,
   "id": "231a3a01-ff39-4dfe-8ce3-c30003cc036b",
   "metadata": {},
   "outputs": [],
   "source": []
  },
  {
   "cell_type": "code",
   "execution_count": null,
   "id": "22b8c9c5-4220-46a4-a487-b5ec961e2bcb",
   "metadata": {},
   "outputs": [],
   "source": []
  },
  {
   "cell_type": "code",
   "execution_count": null,
   "id": "377b6660-1ef8-4e5b-9419-72011cb272e3",
   "metadata": {},
   "outputs": [],
   "source": []
  },
  {
   "cell_type": "code",
   "execution_count": null,
   "id": "42c00935-955d-4944-afca-2f043c4dc5f4",
   "metadata": {},
   "outputs": [],
   "source": []
  },
  {
   "cell_type": "code",
   "execution_count": null,
   "id": "1a62bfeb-8906-461e-aa48-6f77e596d0ee",
   "metadata": {},
   "outputs": [],
   "source": []
  },
  {
   "cell_type": "code",
   "execution_count": null,
   "id": "1a37bf45-5965-48bf-a9bd-3f471d85e69b",
   "metadata": {},
   "outputs": [],
   "source": []
  },
  {
   "cell_type": "code",
   "execution_count": null,
   "id": "0daa5aae-7e8d-443e-92ac-5e5dece1a8bd",
   "metadata": {},
   "outputs": [],
   "source": []
  },
  {
   "cell_type": "code",
   "execution_count": null,
   "id": "fc7d201a-c485-4eba-8475-4fa28fa9f691",
   "metadata": {},
   "outputs": [],
   "source": []
  }
 ],
 "metadata": {
  "kernelspec": {
   "display_name": "Python 3 (ipykernel)",
   "language": "python",
   "name": "python3"
  },
  "language_info": {
   "codemirror_mode": {
    "name": "ipython",
    "version": 3
   },
   "file_extension": ".py",
   "mimetype": "text/x-python",
   "name": "python",
   "nbconvert_exporter": "python",
   "pygments_lexer": "ipython3",
   "version": "3.12.4"
  }
 },
 "nbformat": 4,
 "nbformat_minor": 5
}
