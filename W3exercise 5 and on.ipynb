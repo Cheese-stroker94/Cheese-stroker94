{
 "cells": [
  {
   "cell_type": "code",
   "execution_count": null,
   "id": "11050acd-add3-46a9-8df9-7a2d9cbef774",
   "metadata": {},
   "outputs": [],
   "source": [
    "4. To-Do List Application: Build a basic to-do list application where users can add, edit, and delete tasks.\n",
    "\n",
    "Input values:\n",
    "\n",
    "User interacts with the application through commands to add, edit, or delete tasks.\n",
    "\n",
    "Output value:\n",
    "\n",
    "Updated the to-do list based on user actions.\n",
    "\n",
    "Example:\n",
    "\n",
    "Input values:\n",
    "\n",
    "1. Add Task\n",
    "2. Edit Task\n",
    "3. Delete Task\n",
    "4. Exit\n",
    "\n",
    "Select an option: 1\n",
    "Enter task: Buy groceries\n",
    "\n",
    "Output value:\n",
    "Task added successfully.\n",
    "\n",
    "Input values:\n",
    "1. Add Task\n",
    "2. Edit Task\n",
    "3. Delete Task\n",
    "4. Exit\n",
    "\n",
    "Select an option: 2\n",
    "Enter task index to edit: 1\n",
    "Enter new task: Buy weekly groceries\n",
    "\n",
    "Output value:\n",
    "Task edited successfully.\n",
    "\n",
    "Input values:\n",
    "1. Add Task\n",
    "2. Edit Task\n",
    "3. Delete Task\n",
    "4. Exit\n",
    "\n",
    "Select an option: 3\n",
    "Enter task index to delete: 1\n",
    "\n",
    "Output value:\n",
    "Task deleted successfully.\n",
    "\n",
    "Input values:\n",
    "1. Add Task\n",
    "2. Edit Task\n",
    "3. Delete Task\n",
    "4. Exit\n",
    "\n",
    "Select an option: 4"
   ]
  },
  {
   "cell_type": "code",
   "execution_count": null,
   "id": "06972115-456d-436e-82c6-da3128cf3d81",
   "metadata": {},
   "outputs": [],
   "source": [
    "\n",
    "task1=[]\n",
    "def add():\n",
    "    task=input('enter task')\n",
    "    task1.append(task)\n",
    "    print('task added')\n",
    "    print(task1)\n",
    "def edit():\n",
    "    index=int(input('enter task # to edit'))\n",
    "    task1[index]=input('enter your task')\n",
    "\n",
    "def delete():\n",
    "    index=int(input('enter task # to delete'))\n",
    "    del task1[index]\n",
    "\n",
    "\n",
    "    \n",
    "tasks={\n",
    "    '1':add,\n",
    "    '2':edit,\n",
    "    '3':delete,\n",
    "   \n",
    "}\n",
    "\n",
    "while True:\n",
    "    a=(input('enter task #'))\n",
    "\n",
    "    if a in tasks:\n",
    "        tasks[a]()\n",
    "    elif a=='4':\n",
    "        print('ok')\n",
    "        break\n"
   ]
  },
  {
   "cell_type": "code",
   "execution_count": null,
   "id": "470359f7-0cf1-4342-97c9-00bc60aca1c0",
   "metadata": {},
   "outputs": [],
   "source": [
    "task1\n"
   ]
  },
  {
   "cell_type": "code",
   "execution_count": null,
   "id": "16507bbd-be86-466b-bdab-98ca56808887",
   "metadata": {},
   "outputs": [],
   "source": [
    "5. Dice Rolling Simulator: Simulate the rolling of a dice and display the result.\n",
    "\n",
    "Input values: None\n",
    "\n",
    "Output value: Randomly generated dice roll results.\n",
    "\n",
    "Example:\n",
    "\n",
    "Input values:\n",
    "None\n",
    "\n",
    "Output value:\n",
    "The dice were rolled: 3"
   ]
  },
  {
   "cell_type": "code",
   "execution_count": null,
   "id": "ff4ca44d-b60d-4f72-b9c9-7e92678f8415",
   "metadata": {},
   "outputs": [],
   "source": [
    "import random\n",
    "a=random.randint(1,6)\n",
    "print(f\"The dice were rolled:(a)\")"
   ]
  },
  {
   "cell_type": "code",
   "execution_count": null,
   "id": "9831abb1-dc09-49da-9736-e82b916fe312",
   "metadata": {},
   "outputs": [],
   "source": [
    "6. Temperature converter: Create a program that converts temperatures between Fahrenheit and Celsius.\n",
    "\n",
    "Input values:\n",
    "\n",
    "User provides a temperature and selects the conversion type (Fahrenheit to Celsius or vice versa).\n",
    "\n",
    "Output value: Converted the temperature.\n",
    "\n",
    "Example:\n",
    "\n",
    "Input values:\n",
    "Enter temperature: 32\n",
    "Select a conversion type (1 for Fahrenheit to Celsius, 2 for Celsius to Fahrenheit): 1\n",
    "\n",
    "Output value:\n",
    "Converted temperature: 0.0oC"
   ]
  },
  {
   "cell_type": "code",
   "execution_count": null,
   "id": "ac4463a4-b53e-4ddb-9faf-52caa34c6c78",
   "metadata": {},
   "outputs": [],
   "source": []
  },
  {
   "cell_type": "code",
   "execution_count": null,
   "id": "9fbc65a8-151f-41aa-9901-45cd2e666727",
   "metadata": {
    "scrolled": true
   },
   "outputs": [],
   "source": [
    "a=int(input('enter temp'))\n",
    "b=int(input('conversion \\nEnter 1 for F to C \\nEnter 2 for C to F'))\n",
    "\n",
    "def ftoc():\n",
    "    print(((a-32)*5)/9)\n",
    "\n",
    "def ctof():\n",
    "    print(((a*9)/5)+32\n",
    "         )\n",
    " \n",
    "if b==1:\n",
    "    ftoc()\n",
    "else:\n",
    "    ctof()"
   ]
  },
  {
   "cell_type": "code",
   "execution_count": null,
   "id": "d3232933-630c-4280-add2-d43cdf587eb9",
   "metadata": {},
   "outputs": [],
   "source": [
    "7. Alarm Clock: Design a simple alarm clock application that allows users to set alarms.\n",
    "\n",
    "Input values:\n",
    "\n",
    "User sets an alarm time.\n",
    "\n",
    "Output value:\n",
    "\n",
    "Alarm notification when the set time is reached.\n",
    "\n",
    "Example:\n",
    "\n",
    "Input values:\n",
    "Set alarm time: 07:30 AM\n",
    "\n",
    "Output value:\n",
    "Alarm! It's 07:30 AM. Time to wake up!\n"
   ]
  },
  {
   "cell_type": "code",
   "execution_count": null,
   "id": "a7eadd04-0ad7-437b-a822-f1a8367c34f4",
   "metadata": {},
   "outputs": [],
   "source": [
    "import datetime\n",
    "from datetime import datetime\n",
    "\n",
    "datetime.now().strftime(\"%H:%M %p\")"
   ]
  },
  {
   "cell_type": "code",
   "execution_count": null,
   "id": "0de61202-eb58-496f-98eb-409670e34456",
   "metadata": {},
   "outputs": [],
   "source": [
    "import time  # Provides time-related functions for sleep and current time\n",
    "from datetime import datetime  # Provides functions to work with date and time\n",
    "\n",
    "# Function to get the current time in HH:MM AM/PM format\n",
    "def get_current_time():\n",
    "    # Use datetime to get the current time and format it\n",
    "    return datetime.now().strftime(\"%I:%M %p\")\n",
    "\n",
    "# Function to check and trigger the alarm\n",
    "def set_alarm(alarm_time):\n",
    "    print(f\"Alarm set for {alarm_time}. Waiting...\")\n",
    "\n",
    "    # Infinite loop to keep checking the time until the alarm time is reached\n",
    "    while True:\n",
    "        # Get the current time\n",
    "        current_time = get_current_time()\n",
    "\n",
    "        # Compare the current time with the alarm time\n",
    "        if current_time == alarm_time:\n",
    "            # Alarm notification\n",
    "            print(f\"Alarm! It's {alarm_time}. Time to wake up!\")\n",
    "            break  # Exit the loop after the alarm goes off\n",
    "\n",
    "        # Sleep for 1 minute to avoid frequent checks\n",
    "        time.sleep(60)\n",
    "\n",
    "# Get the user input for the alarm time in HH:MM AM/PM format\n",
    "alarm_time = input(\"Set alarm time (e.g., 07:30 AM): \")\n",
    "\n",
    "# Set the alarm\n",
    "set_alarm(alarm_time)"
   ]
  },
  {
   "cell_type": "code",
   "execution_count": null,
   "id": "b6291a6a-acaf-482c-8921-843c3bb8ee2f",
   "metadata": {},
   "outputs": [],
   "source": [
    "8. Random Password Generator: Generate a random password of a specified length.\n",
    "\n",
    "Input values:\n",
    "\n",
    "User specifies the desired password length.\n",
    "\n",
    "Output value:\n",
    "\n",
    "Randomly generated passwords of the specified length.\n",
    "\n",
    "Example:\n",
    "\n",
    "Input values:\n",
    "Enter the desired password length: 12\n",
    "\n",
    "Output value:\n",
    "Generated password: Xy#7pLm$9oR5"
   ]
  },
  {
   "cell_type": "code",
   "execution_count": 29,
   "id": "9356fba8-23bb-43ec-80f3-365f94720e3c",
   "metadata": {},
   "outputs": [
    {
     "name": "stdin",
     "output_type": "stream",
     "text": [
      "enter length 19\n"
     ]
    },
    {
     "name": "stdout",
     "output_type": "stream",
     "text": [
      "uty0esu!QUZgH!a%vgF\n"
     ]
    }
   ],
   "source": [
    "import random\n",
    "\n",
    "\n",
    "def password():\n",
    "    char=\"abcdefghijklmnopqrstuvwxyzABCDEFGHIJKLMNOPQRSTUVWXYZ0123456789!@#$%^&*()\"\n",
    "    passw=''\n",
    "    for i in range (length):\n",
    "        passw+=random.choice(char)\n",
    "    return passw\n",
    "\n",
    "\n",
    "length=int(input('enter length'))\n",
    "\n",
    "passd=password()\n",
    "print(passd)"
   ]
  },
  {
   "cell_type": "code",
   "execution_count": null,
   "id": "4a448798-c385-424d-b02c-c3dbda18665f",
   "metadata": {},
   "outputs": [],
   "source": [
    "9. Text-based Adventure Game:Develop a simple text-based adventure game with multiple choices for the player.\n",
    "\n",
    "Input values:\n",
    "\n",
    "Player makes choices by selecting options presented in the game.\n",
    "\n",
    "Output value:\n",
    "\n",
    "Story progression based on player choices, with different outcomes.\n",
    "\n",
    "Example:\n",
    "\n",
    "Input values:\n",
    "1. Enter the dark cave.\n",
    "2. Follow the path through the forest.\n",
    "\n",
    "Output value:\n",
    "You chose to enter the dark cave. Inside, you find a treasure chest.\n",
    "\n",
    "Input values:\n",
    "1. Open the chest.\n",
    "2. Leave the cave.\n",
    "\n",
    "Output value:\n",
    "You chose to open the chest. Congratulations! You found a valuable gem."
   ]
  },
  {
   "cell_type": "code",
   "execution_count": 33,
   "id": "6780a640-5df7-4ca5-917b-810109221e1c",
   "metadata": {},
   "outputs": [
    {
     "name": "stdin",
     "output_type": "stream",
     "text": [
      "welcome to adventure game, select an option #1 or #2 from below \n",
      "1. Enter the dark cave. \n",
      "2. Follow the path through the forest. 1\n"
     ]
    },
    {
     "name": "stdout",
     "output_type": "stream",
     "text": [
      "You chose to enter the dark cave. Inside, you find a treasure chest.\n"
     ]
    },
    {
     "name": "stdin",
     "output_type": "stream",
     "text": [
      "select from options. \n",
      "1. Open the chest.\n",
      "2. Leave the cave. 1\n"
     ]
    },
    {
     "name": "stdout",
     "output_type": "stream",
     "text": [
      "You chose to open the chest. Congratulations! You found a valuable gem.\n"
     ]
    }
   ],
   "source": [
    "a=int(input('welcome to adventure game, select an option #1 or #2 from below \\n1. Enter the dark cave. \\n2. Follow the path through the forest.'))\n",
    "\n",
    "\n",
    "if a==1:\n",
    "    print('You chose to enter the dark cave. Inside, you find a treasure chest.')\n",
    "    b=int(input('select from options. \\n1. Open the chest.\\n2. Leave the cave.'))\n",
    "    if b==1:\n",
    "        print('You chose to open the chest. Congratulations! You found a valuable gem.')\n",
    "    "
   ]
  },
  {
   "cell_type": "code",
   "execution_count": null,
   "id": "7fcd2f2c-d977-457c-bee1-cb564bf1df6f",
   "metadata": {},
   "outputs": [],
   "source": []
  },
  {
   "cell_type": "code",
   "execution_count": null,
   "id": "fddb280d-5cb0-4f53-b193-9fac0a6e920c",
   "metadata": {},
   "outputs": [],
   "source": [
    "10. Rock, Paper, Scissors Game: Implement the classic game with a user interface.\n",
    "\n",
    "From Wikipedia - Rock paper scissors (commonly scissors, paper, rock or stone in Australia and New Zealand) is an intransitive hand game, usually played between two people, in which each player simultaneously forms one of three shapes with an outstretched hand. These shapes are \"rock\" (a closed fist), \"paper\" (a flat hand), and \"scissors\" (a fist with the index finger and middle finger extended, forming a V). The earliest form of \"rock paper scissors\"-style game originated in China and was subsequently imported into Japan, where it reached its modern standardized form, before being spread throughout the world in the early 20th century.\n",
    "\n",
    "Input values:\n",
    "\n",
    "Player selects rock, paper, or scissors.\n",
    "\n",
    "Output value:\n",
    "\n",
    "Result of the game, indicating whether the player wins, loses, or it's a tie.\n",
    "\n",
    "Example:\n",
    "\n",
    "Input values:\n",
    "Select your move (1 for Rock, 2 for Paper, 3 for Scissors): 2\n",
    "\n",
    "Output value:\n",
    "Computer chose Rock. You win!\n",
    "\n",
    "Input values:\n",
    "Select your move (1 for Rock, 2 for Paper, 3 for Scissors): 1\n",
    "\n",
    "Output value:\n",
    "Computer chose Scissors. You lose!\n",
    "\n",
    "Input values:\n",
    "Select your move (1 for Rock, 2 for Paper, 3 for Scissors): 3\n",
    "\n",
    "Output value:\n",
    "Computer chose Paper. It's a tie!"
   ]
  },
  {
   "cell_type": "code",
   "execution_count": 62,
   "id": "a56bc64f-353b-40f2-bf0c-b086bfd1deaf",
   "metadata": {},
   "outputs": [
    {
     "name": "stdin",
     "output_type": "stream",
     "text": [
      "select options rock\n"
     ]
    },
    {
     "name": "stdout",
     "output_type": "stream",
     "text": [
      "noo\n"
     ]
    }
   ],
   "source": [
    "import random\n",
    "\n",
    "l=['rock','paper','scissor']\n",
    "i=random.randint(0,2)\n",
    "b=l[i]\n",
    "\n",
    "a=input('select options')\n",
    "\n",
    "if b==a:\n",
    "    print('yess')\n",
    "    \n",
    "    \n",
    "else:\n",
    "    print('noo')"
   ]
  },
  {
   "cell_type": "code",
   "execution_count": null,
   "id": "e8fcd7b3-22be-4641-af41-61b996b62599",
   "metadata": {},
   "outputs": [],
   "source": [
    "11. Currency Converter: Build a program that converts currency from one denomination to another.\n",
    "\n",
    "Input values:\n",
    "\n",
    "User provides an amount in one currency and selects the target currency for conversion.\n",
    "\n",
    "Output value:\n",
    "\n",
    "Converted the amount to the target currency.\n",
    "\n",
    "Example:\n",
    "\n",
    "Input values:\n",
    "Enter the amount in USD: 50\n",
    "Select target currency (1 for EUR, 2 for GBP, 3 for JPY): 2\n",
    "\n",
    "Output value:\n",
    "Converted amount in GBP: £37.50"
   ]
  },
  {
   "cell_type": "code",
   "execution_count": null,
   "id": "6a9bbd77-fb8d-4999-85d9-d864e1b63ea6",
   "metadata": {},
   "outputs": [],
   "source": [
    "12. Basic Web Scraper: Learn web scraping by extracting data from a website using libraries like BeautifulSoup.\n",
    "\n",
    "Input values:\n",
    "\n",
    "None (Automated process to extract data from a specified website).\n",
    "\n",
    "Output value:\n",
    "\n",
    "Data extracted from the website using libraries like BeautifulSoup.\n",
    "\n",
    "Example:\n",
    "\n",
    "Input values:\n",
    "None\n",
    "\n",
    "Output value:\n",
    "List all the h1 tags from https://en.wikipedia.org/wiki/Main_Page: <h1 class=\"firstHeading mw-first-heading\" id=\"firstHeading\" style=\"display: none\"><span class=\"mw-page-title-main\">Main Page</span></h1> <h1><span class=\"mw-headline\" id=\"Welcome_to_Wikipedia\">Welcome to <a href=\"/wiki/Wikipedia\" title=\"Wikipedia\">Wikipedia</a></span></h1>"
   ]
  },
  {
   "cell_type": "code",
   "execution_count": 60,
   "id": "2c1da763-00db-454c-9669-1cad2fb257c7",
   "metadata": {},
   "outputs": [],
   "source": [
    "import requests\n",
    "from bs4 import BeautifulSoup"
   ]
  },
  {
   "cell_type": "code",
   "execution_count": 61,
   "id": "f342b44a-cd92-4f1b-be64-ec4bca7bdd84",
   "metadata": {},
   "outputs": [
    {
     "ename": "SSLError",
     "evalue": "HTTPSConnectionPool(host='en.wikipedia.org', port=443): Max retries exceeded with url: /wiki/Main_Page (Caused by SSLError(SSLCertVerificationError(1, '[SSL: CERTIFICATE_VERIFY_FAILED] certificate verify failed: self-signed certificate in certificate chain (_ssl.c:1000)')))",
     "output_type": "error",
     "traceback": [
      "\u001b[1;31m---------------------------------------------------------------------------\u001b[0m",
      "\u001b[1;31mSSLCertVerificationError\u001b[0m                  Traceback (most recent call last)",
      "File \u001b[1;32m~\\AppData\\Local\\anaconda3\\Lib\\site-packages\\urllib3\\connectionpool.py:466\u001b[0m, in \u001b[0;36mHTTPConnectionPool._make_request\u001b[1;34m(self, conn, method, url, body, headers, retries, timeout, chunked, response_conn, preload_content, decode_content, enforce_content_length)\u001b[0m\n\u001b[0;32m    465\u001b[0m \u001b[38;5;28;01mtry\u001b[39;00m:\n\u001b[1;32m--> 466\u001b[0m     \u001b[38;5;28mself\u001b[39m\u001b[38;5;241m.\u001b[39m_validate_conn(conn)\n\u001b[0;32m    467\u001b[0m \u001b[38;5;28;01mexcept\u001b[39;00m (SocketTimeout, BaseSSLError) \u001b[38;5;28;01mas\u001b[39;00m e:\n",
      "File \u001b[1;32m~\\AppData\\Local\\anaconda3\\Lib\\site-packages\\urllib3\\connectionpool.py:1095\u001b[0m, in \u001b[0;36mHTTPSConnectionPool._validate_conn\u001b[1;34m(self, conn)\u001b[0m\n\u001b[0;32m   1094\u001b[0m \u001b[38;5;28;01mif\u001b[39;00m conn\u001b[38;5;241m.\u001b[39mis_closed:\n\u001b[1;32m-> 1095\u001b[0m     conn\u001b[38;5;241m.\u001b[39mconnect()\n\u001b[0;32m   1097\u001b[0m \u001b[38;5;66;03m# TODO revise this, see https://github.com/urllib3/urllib3/issues/2791\u001b[39;00m\n",
      "File \u001b[1;32m~\\AppData\\Local\\anaconda3\\Lib\\site-packages\\urllib3\\connection.py:652\u001b[0m, in \u001b[0;36mHTTPSConnection.connect\u001b[1;34m(self)\u001b[0m\n\u001b[0;32m    650\u001b[0m server_hostname_rm_dot \u001b[38;5;241m=\u001b[39m server_hostname\u001b[38;5;241m.\u001b[39mrstrip(\u001b[38;5;124m\"\u001b[39m\u001b[38;5;124m.\u001b[39m\u001b[38;5;124m\"\u001b[39m)\n\u001b[1;32m--> 652\u001b[0m sock_and_verified \u001b[38;5;241m=\u001b[39m _ssl_wrap_socket_and_match_hostname(\n\u001b[0;32m    653\u001b[0m     sock\u001b[38;5;241m=\u001b[39msock,\n\u001b[0;32m    654\u001b[0m     cert_reqs\u001b[38;5;241m=\u001b[39m\u001b[38;5;28mself\u001b[39m\u001b[38;5;241m.\u001b[39mcert_reqs,\n\u001b[0;32m    655\u001b[0m     ssl_version\u001b[38;5;241m=\u001b[39m\u001b[38;5;28mself\u001b[39m\u001b[38;5;241m.\u001b[39mssl_version,\n\u001b[0;32m    656\u001b[0m     ssl_minimum_version\u001b[38;5;241m=\u001b[39m\u001b[38;5;28mself\u001b[39m\u001b[38;5;241m.\u001b[39mssl_minimum_version,\n\u001b[0;32m    657\u001b[0m     ssl_maximum_version\u001b[38;5;241m=\u001b[39m\u001b[38;5;28mself\u001b[39m\u001b[38;5;241m.\u001b[39mssl_maximum_version,\n\u001b[0;32m    658\u001b[0m     ca_certs\u001b[38;5;241m=\u001b[39m\u001b[38;5;28mself\u001b[39m\u001b[38;5;241m.\u001b[39mca_certs,\n\u001b[0;32m    659\u001b[0m     ca_cert_dir\u001b[38;5;241m=\u001b[39m\u001b[38;5;28mself\u001b[39m\u001b[38;5;241m.\u001b[39mca_cert_dir,\n\u001b[0;32m    660\u001b[0m     ca_cert_data\u001b[38;5;241m=\u001b[39m\u001b[38;5;28mself\u001b[39m\u001b[38;5;241m.\u001b[39mca_cert_data,\n\u001b[0;32m    661\u001b[0m     cert_file\u001b[38;5;241m=\u001b[39m\u001b[38;5;28mself\u001b[39m\u001b[38;5;241m.\u001b[39mcert_file,\n\u001b[0;32m    662\u001b[0m     key_file\u001b[38;5;241m=\u001b[39m\u001b[38;5;28mself\u001b[39m\u001b[38;5;241m.\u001b[39mkey_file,\n\u001b[0;32m    663\u001b[0m     key_password\u001b[38;5;241m=\u001b[39m\u001b[38;5;28mself\u001b[39m\u001b[38;5;241m.\u001b[39mkey_password,\n\u001b[0;32m    664\u001b[0m     server_hostname\u001b[38;5;241m=\u001b[39mserver_hostname_rm_dot,\n\u001b[0;32m    665\u001b[0m     ssl_context\u001b[38;5;241m=\u001b[39m\u001b[38;5;28mself\u001b[39m\u001b[38;5;241m.\u001b[39mssl_context,\n\u001b[0;32m    666\u001b[0m     tls_in_tls\u001b[38;5;241m=\u001b[39mtls_in_tls,\n\u001b[0;32m    667\u001b[0m     assert_hostname\u001b[38;5;241m=\u001b[39m\u001b[38;5;28mself\u001b[39m\u001b[38;5;241m.\u001b[39massert_hostname,\n\u001b[0;32m    668\u001b[0m     assert_fingerprint\u001b[38;5;241m=\u001b[39m\u001b[38;5;28mself\u001b[39m\u001b[38;5;241m.\u001b[39massert_fingerprint,\n\u001b[0;32m    669\u001b[0m )\n\u001b[0;32m    670\u001b[0m \u001b[38;5;28mself\u001b[39m\u001b[38;5;241m.\u001b[39msock \u001b[38;5;241m=\u001b[39m sock_and_verified\u001b[38;5;241m.\u001b[39msocket\n",
      "File \u001b[1;32m~\\AppData\\Local\\anaconda3\\Lib\\site-packages\\urllib3\\connection.py:805\u001b[0m, in \u001b[0;36m_ssl_wrap_socket_and_match_hostname\u001b[1;34m(sock, cert_reqs, ssl_version, ssl_minimum_version, ssl_maximum_version, cert_file, key_file, key_password, ca_certs, ca_cert_dir, ca_cert_data, assert_hostname, assert_fingerprint, server_hostname, ssl_context, tls_in_tls)\u001b[0m\n\u001b[0;32m    803\u001b[0m         server_hostname \u001b[38;5;241m=\u001b[39m normalized\n\u001b[1;32m--> 805\u001b[0m ssl_sock \u001b[38;5;241m=\u001b[39m ssl_wrap_socket(\n\u001b[0;32m    806\u001b[0m     sock\u001b[38;5;241m=\u001b[39msock,\n\u001b[0;32m    807\u001b[0m     keyfile\u001b[38;5;241m=\u001b[39mkey_file,\n\u001b[0;32m    808\u001b[0m     certfile\u001b[38;5;241m=\u001b[39mcert_file,\n\u001b[0;32m    809\u001b[0m     key_password\u001b[38;5;241m=\u001b[39mkey_password,\n\u001b[0;32m    810\u001b[0m     ca_certs\u001b[38;5;241m=\u001b[39mca_certs,\n\u001b[0;32m    811\u001b[0m     ca_cert_dir\u001b[38;5;241m=\u001b[39mca_cert_dir,\n\u001b[0;32m    812\u001b[0m     ca_cert_data\u001b[38;5;241m=\u001b[39mca_cert_data,\n\u001b[0;32m    813\u001b[0m     server_hostname\u001b[38;5;241m=\u001b[39mserver_hostname,\n\u001b[0;32m    814\u001b[0m     ssl_context\u001b[38;5;241m=\u001b[39mcontext,\n\u001b[0;32m    815\u001b[0m     tls_in_tls\u001b[38;5;241m=\u001b[39mtls_in_tls,\n\u001b[0;32m    816\u001b[0m )\n\u001b[0;32m    818\u001b[0m \u001b[38;5;28;01mtry\u001b[39;00m:\n",
      "File \u001b[1;32m~\\AppData\\Local\\anaconda3\\Lib\\site-packages\\urllib3\\util\\ssl_.py:465\u001b[0m, in \u001b[0;36mssl_wrap_socket\u001b[1;34m(sock, keyfile, certfile, cert_reqs, ca_certs, server_hostname, ssl_version, ciphers, ssl_context, ca_cert_dir, key_password, ca_cert_data, tls_in_tls)\u001b[0m\n\u001b[0;32m    463\u001b[0m     \u001b[38;5;28;01mpass\u001b[39;00m\n\u001b[1;32m--> 465\u001b[0m ssl_sock \u001b[38;5;241m=\u001b[39m _ssl_wrap_socket_impl(sock, context, tls_in_tls, server_hostname)\n\u001b[0;32m    466\u001b[0m \u001b[38;5;28;01mreturn\u001b[39;00m ssl_sock\n",
      "File \u001b[1;32m~\\AppData\\Local\\anaconda3\\Lib\\site-packages\\urllib3\\util\\ssl_.py:509\u001b[0m, in \u001b[0;36m_ssl_wrap_socket_impl\u001b[1;34m(sock, ssl_context, tls_in_tls, server_hostname)\u001b[0m\n\u001b[0;32m    507\u001b[0m     \u001b[38;5;28;01mreturn\u001b[39;00m SSLTransport(sock, ssl_context, server_hostname)\n\u001b[1;32m--> 509\u001b[0m \u001b[38;5;28;01mreturn\u001b[39;00m ssl_context\u001b[38;5;241m.\u001b[39mwrap_socket(sock, server_hostname\u001b[38;5;241m=\u001b[39mserver_hostname)\n",
      "File \u001b[1;32m~\\AppData\\Local\\anaconda3\\Lib\\ssl.py:455\u001b[0m, in \u001b[0;36mSSLContext.wrap_socket\u001b[1;34m(self, sock, server_side, do_handshake_on_connect, suppress_ragged_eofs, server_hostname, session)\u001b[0m\n\u001b[0;32m    449\u001b[0m \u001b[38;5;28;01mdef\u001b[39;00m \u001b[38;5;21mwrap_socket\u001b[39m(\u001b[38;5;28mself\u001b[39m, sock, server_side\u001b[38;5;241m=\u001b[39m\u001b[38;5;28;01mFalse\u001b[39;00m,\n\u001b[0;32m    450\u001b[0m                 do_handshake_on_connect\u001b[38;5;241m=\u001b[39m\u001b[38;5;28;01mTrue\u001b[39;00m,\n\u001b[0;32m    451\u001b[0m                 suppress_ragged_eofs\u001b[38;5;241m=\u001b[39m\u001b[38;5;28;01mTrue\u001b[39;00m,\n\u001b[0;32m    452\u001b[0m                 server_hostname\u001b[38;5;241m=\u001b[39m\u001b[38;5;28;01mNone\u001b[39;00m, session\u001b[38;5;241m=\u001b[39m\u001b[38;5;28;01mNone\u001b[39;00m):\n\u001b[0;32m    453\u001b[0m     \u001b[38;5;66;03m# SSLSocket class handles server_hostname encoding before it calls\u001b[39;00m\n\u001b[0;32m    454\u001b[0m     \u001b[38;5;66;03m# ctx._wrap_socket()\u001b[39;00m\n\u001b[1;32m--> 455\u001b[0m     \u001b[38;5;28;01mreturn\u001b[39;00m \u001b[38;5;28mself\u001b[39m\u001b[38;5;241m.\u001b[39msslsocket_class\u001b[38;5;241m.\u001b[39m_create(\n\u001b[0;32m    456\u001b[0m         sock\u001b[38;5;241m=\u001b[39msock,\n\u001b[0;32m    457\u001b[0m         server_side\u001b[38;5;241m=\u001b[39mserver_side,\n\u001b[0;32m    458\u001b[0m         do_handshake_on_connect\u001b[38;5;241m=\u001b[39mdo_handshake_on_connect,\n\u001b[0;32m    459\u001b[0m         suppress_ragged_eofs\u001b[38;5;241m=\u001b[39msuppress_ragged_eofs,\n\u001b[0;32m    460\u001b[0m         server_hostname\u001b[38;5;241m=\u001b[39mserver_hostname,\n\u001b[0;32m    461\u001b[0m         context\u001b[38;5;241m=\u001b[39m\u001b[38;5;28mself\u001b[39m,\n\u001b[0;32m    462\u001b[0m         session\u001b[38;5;241m=\u001b[39msession\n\u001b[0;32m    463\u001b[0m     )\n",
      "File \u001b[1;32m~\\AppData\\Local\\anaconda3\\Lib\\ssl.py:1042\u001b[0m, in \u001b[0;36mSSLSocket._create\u001b[1;34m(cls, sock, server_side, do_handshake_on_connect, suppress_ragged_eofs, server_hostname, context, session)\u001b[0m\n\u001b[0;32m   1041\u001b[0m                 \u001b[38;5;28;01mraise\u001b[39;00m \u001b[38;5;167;01mValueError\u001b[39;00m(\u001b[38;5;124m\"\u001b[39m\u001b[38;5;124mdo_handshake_on_connect should not be specified for non-blocking sockets\u001b[39m\u001b[38;5;124m\"\u001b[39m)\n\u001b[1;32m-> 1042\u001b[0m             \u001b[38;5;28mself\u001b[39m\u001b[38;5;241m.\u001b[39mdo_handshake()\n\u001b[0;32m   1043\u001b[0m \u001b[38;5;28;01mexcept\u001b[39;00m:\n",
      "File \u001b[1;32m~\\AppData\\Local\\anaconda3\\Lib\\ssl.py:1320\u001b[0m, in \u001b[0;36mSSLSocket.do_handshake\u001b[1;34m(self, block)\u001b[0m\n\u001b[0;32m   1319\u001b[0m         \u001b[38;5;28mself\u001b[39m\u001b[38;5;241m.\u001b[39msettimeout(\u001b[38;5;28;01mNone\u001b[39;00m)\n\u001b[1;32m-> 1320\u001b[0m     \u001b[38;5;28mself\u001b[39m\u001b[38;5;241m.\u001b[39m_sslobj\u001b[38;5;241m.\u001b[39mdo_handshake()\n\u001b[0;32m   1321\u001b[0m \u001b[38;5;28;01mfinally\u001b[39;00m:\n",
      "\u001b[1;31mSSLCertVerificationError\u001b[0m: [SSL: CERTIFICATE_VERIFY_FAILED] certificate verify failed: self-signed certificate in certificate chain (_ssl.c:1000)",
      "\nDuring handling of the above exception, another exception occurred:\n",
      "\u001b[1;31mSSLError\u001b[0m                                  Traceback (most recent call last)",
      "File \u001b[1;32m~\\AppData\\Local\\anaconda3\\Lib\\site-packages\\urllib3\\connectionpool.py:789\u001b[0m, in \u001b[0;36mHTTPConnectionPool.urlopen\u001b[1;34m(self, method, url, body, headers, retries, redirect, assert_same_host, timeout, pool_timeout, release_conn, chunked, body_pos, preload_content, decode_content, **response_kw)\u001b[0m\n\u001b[0;32m    788\u001b[0m \u001b[38;5;66;03m# Make the request on the HTTPConnection object\u001b[39;00m\n\u001b[1;32m--> 789\u001b[0m response \u001b[38;5;241m=\u001b[39m \u001b[38;5;28mself\u001b[39m\u001b[38;5;241m.\u001b[39m_make_request(\n\u001b[0;32m    790\u001b[0m     conn,\n\u001b[0;32m    791\u001b[0m     method,\n\u001b[0;32m    792\u001b[0m     url,\n\u001b[0;32m    793\u001b[0m     timeout\u001b[38;5;241m=\u001b[39mtimeout_obj,\n\u001b[0;32m    794\u001b[0m     body\u001b[38;5;241m=\u001b[39mbody,\n\u001b[0;32m    795\u001b[0m     headers\u001b[38;5;241m=\u001b[39mheaders,\n\u001b[0;32m    796\u001b[0m     chunked\u001b[38;5;241m=\u001b[39mchunked,\n\u001b[0;32m    797\u001b[0m     retries\u001b[38;5;241m=\u001b[39mretries,\n\u001b[0;32m    798\u001b[0m     response_conn\u001b[38;5;241m=\u001b[39mresponse_conn,\n\u001b[0;32m    799\u001b[0m     preload_content\u001b[38;5;241m=\u001b[39mpreload_content,\n\u001b[0;32m    800\u001b[0m     decode_content\u001b[38;5;241m=\u001b[39mdecode_content,\n\u001b[0;32m    801\u001b[0m     \u001b[38;5;241m*\u001b[39m\u001b[38;5;241m*\u001b[39mresponse_kw,\n\u001b[0;32m    802\u001b[0m )\n\u001b[0;32m    804\u001b[0m \u001b[38;5;66;03m# Everything went great!\u001b[39;00m\n",
      "File \u001b[1;32m~\\AppData\\Local\\anaconda3\\Lib\\site-packages\\urllib3\\connectionpool.py:490\u001b[0m, in \u001b[0;36mHTTPConnectionPool._make_request\u001b[1;34m(self, conn, method, url, body, headers, retries, timeout, chunked, response_conn, preload_content, decode_content, enforce_content_length)\u001b[0m\n\u001b[0;32m    489\u001b[0m         new_e \u001b[38;5;241m=\u001b[39m _wrap_proxy_error(new_e, conn\u001b[38;5;241m.\u001b[39mproxy\u001b[38;5;241m.\u001b[39mscheme)\n\u001b[1;32m--> 490\u001b[0m     \u001b[38;5;28;01mraise\u001b[39;00m new_e\n\u001b[0;32m    492\u001b[0m \u001b[38;5;66;03m# conn.request() calls http.client.*.request, not the method in\u001b[39;00m\n\u001b[0;32m    493\u001b[0m \u001b[38;5;66;03m# urllib3.request. It also calls makefile (recv) on the socket.\u001b[39;00m\n",
      "\u001b[1;31mSSLError\u001b[0m: [SSL: CERTIFICATE_VERIFY_FAILED] certificate verify failed: self-signed certificate in certificate chain (_ssl.c:1000)",
      "\nThe above exception was the direct cause of the following exception:\n",
      "\u001b[1;31mMaxRetryError\u001b[0m                             Traceback (most recent call last)",
      "File \u001b[1;32m~\\AppData\\Local\\anaconda3\\Lib\\site-packages\\requests\\adapters.py:589\u001b[0m, in \u001b[0;36mHTTPAdapter.send\u001b[1;34m(self, request, stream, timeout, verify, cert, proxies)\u001b[0m\n\u001b[0;32m    588\u001b[0m \u001b[38;5;28;01mtry\u001b[39;00m:\n\u001b[1;32m--> 589\u001b[0m     resp \u001b[38;5;241m=\u001b[39m conn\u001b[38;5;241m.\u001b[39murlopen(\n\u001b[0;32m    590\u001b[0m         method\u001b[38;5;241m=\u001b[39mrequest\u001b[38;5;241m.\u001b[39mmethod,\n\u001b[0;32m    591\u001b[0m         url\u001b[38;5;241m=\u001b[39murl,\n\u001b[0;32m    592\u001b[0m         body\u001b[38;5;241m=\u001b[39mrequest\u001b[38;5;241m.\u001b[39mbody,\n\u001b[0;32m    593\u001b[0m         headers\u001b[38;5;241m=\u001b[39mrequest\u001b[38;5;241m.\u001b[39mheaders,\n\u001b[0;32m    594\u001b[0m         redirect\u001b[38;5;241m=\u001b[39m\u001b[38;5;28;01mFalse\u001b[39;00m,\n\u001b[0;32m    595\u001b[0m         assert_same_host\u001b[38;5;241m=\u001b[39m\u001b[38;5;28;01mFalse\u001b[39;00m,\n\u001b[0;32m    596\u001b[0m         preload_content\u001b[38;5;241m=\u001b[39m\u001b[38;5;28;01mFalse\u001b[39;00m,\n\u001b[0;32m    597\u001b[0m         decode_content\u001b[38;5;241m=\u001b[39m\u001b[38;5;28;01mFalse\u001b[39;00m,\n\u001b[0;32m    598\u001b[0m         retries\u001b[38;5;241m=\u001b[39m\u001b[38;5;28mself\u001b[39m\u001b[38;5;241m.\u001b[39mmax_retries,\n\u001b[0;32m    599\u001b[0m         timeout\u001b[38;5;241m=\u001b[39mtimeout,\n\u001b[0;32m    600\u001b[0m         chunked\u001b[38;5;241m=\u001b[39mchunked,\n\u001b[0;32m    601\u001b[0m     )\n\u001b[0;32m    603\u001b[0m \u001b[38;5;28;01mexcept\u001b[39;00m (ProtocolError, \u001b[38;5;167;01mOSError\u001b[39;00m) \u001b[38;5;28;01mas\u001b[39;00m err:\n",
      "File \u001b[1;32m~\\AppData\\Local\\anaconda3\\Lib\\site-packages\\urllib3\\connectionpool.py:843\u001b[0m, in \u001b[0;36mHTTPConnectionPool.urlopen\u001b[1;34m(self, method, url, body, headers, retries, redirect, assert_same_host, timeout, pool_timeout, release_conn, chunked, body_pos, preload_content, decode_content, **response_kw)\u001b[0m\n\u001b[0;32m    841\u001b[0m     new_e \u001b[38;5;241m=\u001b[39m ProtocolError(\u001b[38;5;124m\"\u001b[39m\u001b[38;5;124mConnection aborted.\u001b[39m\u001b[38;5;124m\"\u001b[39m, new_e)\n\u001b[1;32m--> 843\u001b[0m retries \u001b[38;5;241m=\u001b[39m retries\u001b[38;5;241m.\u001b[39mincrement(\n\u001b[0;32m    844\u001b[0m     method, url, error\u001b[38;5;241m=\u001b[39mnew_e, _pool\u001b[38;5;241m=\u001b[39m\u001b[38;5;28mself\u001b[39m, _stacktrace\u001b[38;5;241m=\u001b[39msys\u001b[38;5;241m.\u001b[39mexc_info()[\u001b[38;5;241m2\u001b[39m]\n\u001b[0;32m    845\u001b[0m )\n\u001b[0;32m    846\u001b[0m retries\u001b[38;5;241m.\u001b[39msleep()\n",
      "File \u001b[1;32m~\\AppData\\Local\\anaconda3\\Lib\\site-packages\\urllib3\\util\\retry.py:519\u001b[0m, in \u001b[0;36mRetry.increment\u001b[1;34m(self, method, url, response, error, _pool, _stacktrace)\u001b[0m\n\u001b[0;32m    518\u001b[0m     reason \u001b[38;5;241m=\u001b[39m error \u001b[38;5;129;01mor\u001b[39;00m ResponseError(cause)\n\u001b[1;32m--> 519\u001b[0m     \u001b[38;5;28;01mraise\u001b[39;00m MaxRetryError(_pool, url, reason) \u001b[38;5;28;01mfrom\u001b[39;00m \u001b[38;5;21;01mreason\u001b[39;00m  \u001b[38;5;66;03m# type: ignore[arg-type]\u001b[39;00m\n\u001b[0;32m    521\u001b[0m log\u001b[38;5;241m.\u001b[39mdebug(\u001b[38;5;124m\"\u001b[39m\u001b[38;5;124mIncremented Retry for (url=\u001b[39m\u001b[38;5;124m'\u001b[39m\u001b[38;5;132;01m%s\u001b[39;00m\u001b[38;5;124m'\u001b[39m\u001b[38;5;124m): \u001b[39m\u001b[38;5;132;01m%r\u001b[39;00m\u001b[38;5;124m\"\u001b[39m, url, new_retry)\n",
      "\u001b[1;31mMaxRetryError\u001b[0m: HTTPSConnectionPool(host='en.wikipedia.org', port=443): Max retries exceeded with url: /wiki/Main_Page (Caused by SSLError(SSLCertVerificationError(1, '[SSL: CERTIFICATE_VERIFY_FAILED] certificate verify failed: self-signed certificate in certificate chain (_ssl.c:1000)')))",
      "\nDuring handling of the above exception, another exception occurred:\n",
      "\u001b[1;31mSSLError\u001b[0m                                  Traceback (most recent call last)",
      "Cell \u001b[1;32mIn[61], line 31\u001b[0m\n\u001b[0;32m     28\u001b[0m url \u001b[38;5;241m=\u001b[39m \u001b[38;5;124m\"\u001b[39m\u001b[38;5;124mhttps://en.wikipedia.org/wiki/Main_Page\u001b[39m\u001b[38;5;124m\"\u001b[39m\n\u001b[0;32m     30\u001b[0m \u001b[38;5;66;03m# Call the function to scrape h1 tags\u001b[39;00m\n\u001b[1;32m---> 31\u001b[0m scrape_h1_tags(url)\n",
      "Cell \u001b[1;32mIn[61], line 9\u001b[0m, in \u001b[0;36mscrape_h1_tags\u001b[1;34m(url)\u001b[0m\n\u001b[0;32m      7\u001b[0m \u001b[38;5;28;01mdef\u001b[39;00m \u001b[38;5;21mscrape_h1_tags\u001b[39m(url):\n\u001b[0;32m      8\u001b[0m     \u001b[38;5;66;03m# Send an HTTP GET request to the specified URL\u001b[39;00m\n\u001b[1;32m----> 9\u001b[0m     response \u001b[38;5;241m=\u001b[39m requests\u001b[38;5;241m.\u001b[39mget(url)\n\u001b[0;32m     11\u001b[0m     \u001b[38;5;66;03m# Check if the request was successful (status code 200)\u001b[39;00m\n\u001b[0;32m     12\u001b[0m     \u001b[38;5;28;01mif\u001b[39;00m response\u001b[38;5;241m.\u001b[39mstatus_code \u001b[38;5;241m==\u001b[39m \u001b[38;5;241m200\u001b[39m:\n\u001b[0;32m     13\u001b[0m         \u001b[38;5;66;03m# Parse the HTML content of the page using BeautifulSoup\u001b[39;00m\n",
      "File \u001b[1;32m~\\AppData\\Local\\anaconda3\\Lib\\site-packages\\requests\\api.py:73\u001b[0m, in \u001b[0;36mget\u001b[1;34m(url, params, **kwargs)\u001b[0m\n\u001b[0;32m     62\u001b[0m \u001b[38;5;28;01mdef\u001b[39;00m \u001b[38;5;21mget\u001b[39m(url, params\u001b[38;5;241m=\u001b[39m\u001b[38;5;28;01mNone\u001b[39;00m, \u001b[38;5;241m*\u001b[39m\u001b[38;5;241m*\u001b[39mkwargs):\n\u001b[0;32m     63\u001b[0m \u001b[38;5;250m    \u001b[39m\u001b[38;5;124mr\u001b[39m\u001b[38;5;124;03m\"\"\"Sends a GET request.\u001b[39;00m\n\u001b[0;32m     64\u001b[0m \n\u001b[0;32m     65\u001b[0m \u001b[38;5;124;03m    :param url: URL for the new :class:`Request` object.\u001b[39;00m\n\u001b[1;32m   (...)\u001b[0m\n\u001b[0;32m     70\u001b[0m \u001b[38;5;124;03m    :rtype: requests.Response\u001b[39;00m\n\u001b[0;32m     71\u001b[0m \u001b[38;5;124;03m    \"\"\"\u001b[39;00m\n\u001b[1;32m---> 73\u001b[0m     \u001b[38;5;28;01mreturn\u001b[39;00m request(\u001b[38;5;124m\"\u001b[39m\u001b[38;5;124mget\u001b[39m\u001b[38;5;124m\"\u001b[39m, url, params\u001b[38;5;241m=\u001b[39mparams, \u001b[38;5;241m*\u001b[39m\u001b[38;5;241m*\u001b[39mkwargs)\n",
      "File \u001b[1;32m~\\AppData\\Local\\anaconda3\\Lib\\site-packages\\requests\\api.py:59\u001b[0m, in \u001b[0;36mrequest\u001b[1;34m(method, url, **kwargs)\u001b[0m\n\u001b[0;32m     55\u001b[0m \u001b[38;5;66;03m# By using the 'with' statement we are sure the session is closed, thus we\u001b[39;00m\n\u001b[0;32m     56\u001b[0m \u001b[38;5;66;03m# avoid leaving sockets open which can trigger a ResourceWarning in some\u001b[39;00m\n\u001b[0;32m     57\u001b[0m \u001b[38;5;66;03m# cases, and look like a memory leak in others.\u001b[39;00m\n\u001b[0;32m     58\u001b[0m \u001b[38;5;28;01mwith\u001b[39;00m sessions\u001b[38;5;241m.\u001b[39mSession() \u001b[38;5;28;01mas\u001b[39;00m session:\n\u001b[1;32m---> 59\u001b[0m     \u001b[38;5;28;01mreturn\u001b[39;00m session\u001b[38;5;241m.\u001b[39mrequest(method\u001b[38;5;241m=\u001b[39mmethod, url\u001b[38;5;241m=\u001b[39murl, \u001b[38;5;241m*\u001b[39m\u001b[38;5;241m*\u001b[39mkwargs)\n",
      "File \u001b[1;32m~\\AppData\\Local\\anaconda3\\Lib\\site-packages\\requests\\sessions.py:589\u001b[0m, in \u001b[0;36mSession.request\u001b[1;34m(self, method, url, params, data, headers, cookies, files, auth, timeout, allow_redirects, proxies, hooks, stream, verify, cert, json)\u001b[0m\n\u001b[0;32m    584\u001b[0m send_kwargs \u001b[38;5;241m=\u001b[39m {\n\u001b[0;32m    585\u001b[0m     \u001b[38;5;124m\"\u001b[39m\u001b[38;5;124mtimeout\u001b[39m\u001b[38;5;124m\"\u001b[39m: timeout,\n\u001b[0;32m    586\u001b[0m     \u001b[38;5;124m\"\u001b[39m\u001b[38;5;124mallow_redirects\u001b[39m\u001b[38;5;124m\"\u001b[39m: allow_redirects,\n\u001b[0;32m    587\u001b[0m }\n\u001b[0;32m    588\u001b[0m send_kwargs\u001b[38;5;241m.\u001b[39mupdate(settings)\n\u001b[1;32m--> 589\u001b[0m resp \u001b[38;5;241m=\u001b[39m \u001b[38;5;28mself\u001b[39m\u001b[38;5;241m.\u001b[39msend(prep, \u001b[38;5;241m*\u001b[39m\u001b[38;5;241m*\u001b[39msend_kwargs)\n\u001b[0;32m    591\u001b[0m \u001b[38;5;28;01mreturn\u001b[39;00m resp\n",
      "File \u001b[1;32m~\\AppData\\Local\\anaconda3\\Lib\\site-packages\\requests\\sessions.py:703\u001b[0m, in \u001b[0;36mSession.send\u001b[1;34m(self, request, **kwargs)\u001b[0m\n\u001b[0;32m    700\u001b[0m start \u001b[38;5;241m=\u001b[39m preferred_clock()\n\u001b[0;32m    702\u001b[0m \u001b[38;5;66;03m# Send the request\u001b[39;00m\n\u001b[1;32m--> 703\u001b[0m r \u001b[38;5;241m=\u001b[39m adapter\u001b[38;5;241m.\u001b[39msend(request, \u001b[38;5;241m*\u001b[39m\u001b[38;5;241m*\u001b[39mkwargs)\n\u001b[0;32m    705\u001b[0m \u001b[38;5;66;03m# Total elapsed time of the request (approximately)\u001b[39;00m\n\u001b[0;32m    706\u001b[0m elapsed \u001b[38;5;241m=\u001b[39m preferred_clock() \u001b[38;5;241m-\u001b[39m start\n",
      "File \u001b[1;32m~\\AppData\\Local\\anaconda3\\Lib\\site-packages\\requests\\adapters.py:620\u001b[0m, in \u001b[0;36mHTTPAdapter.send\u001b[1;34m(self, request, stream, timeout, verify, cert, proxies)\u001b[0m\n\u001b[0;32m    616\u001b[0m         \u001b[38;5;28;01mraise\u001b[39;00m ProxyError(e, request\u001b[38;5;241m=\u001b[39mrequest)\n\u001b[0;32m    618\u001b[0m     \u001b[38;5;28;01mif\u001b[39;00m \u001b[38;5;28misinstance\u001b[39m(e\u001b[38;5;241m.\u001b[39mreason, _SSLError):\n\u001b[0;32m    619\u001b[0m         \u001b[38;5;66;03m# This branch is for urllib3 v1.22 and later.\u001b[39;00m\n\u001b[1;32m--> 620\u001b[0m         \u001b[38;5;28;01mraise\u001b[39;00m SSLError(e, request\u001b[38;5;241m=\u001b[39mrequest)\n\u001b[0;32m    622\u001b[0m     \u001b[38;5;28;01mraise\u001b[39;00m \u001b[38;5;167;01mConnectionError\u001b[39;00m(e, request\u001b[38;5;241m=\u001b[39mrequest)\n\u001b[0;32m    624\u001b[0m \u001b[38;5;28;01mexcept\u001b[39;00m ClosedPoolError \u001b[38;5;28;01mas\u001b[39;00m e:\n",
      "\u001b[1;31mSSLError\u001b[0m: HTTPSConnectionPool(host='en.wikipedia.org', port=443): Max retries exceeded with url: /wiki/Main_Page (Caused by SSLError(SSLCertVerificationError(1, '[SSL: CERTIFICATE_VERIFY_FAILED] certificate verify failed: self-signed certificate in certificate chain (_ssl.c:1000)')))"
     ]
    }
   ],
   "source": [
    "# Solution 1: Basic Web Scraper Using `requests` and `BeautifulSoup`\n",
    "# Import necessary libraries\n",
    "import requests  # Used to send HTTP requests\n",
    "from bs4 import BeautifulSoup  # Used for parsing HTML content\n",
    "\n",
    "# Function to extract data from the specified website\n",
    "def scrape_h1_tags(url):\n",
    "    # Send an HTTP GET request to the specified URL\n",
    "    response = requests.get(url)\n",
    "\n",
    "    # Check if the request was successful (status code 200)\n",
    "    if response.status_code == 200:\n",
    "        # Parse the HTML content of the page using BeautifulSoup\n",
    "        soup = BeautifulSoup(response.text, 'html.parser')\n",
    "\n",
    "        # Find all the h1 tags on the page\n",
    "        h1_tags = soup.find_all('h1')\n",
    "\n",
    "        # Print the extracted h1 tags\n",
    "        print(f\"List all the h1 tags from {url}:\")\n",
    "        for tag in h1_tags:\n",
    "            print(tag)\n",
    "    else:\n",
    "        # Print an error message if the request was not successful\n",
    "        print(f\"Failed to retrieve the webpage. Status code: {response.status_code}\")\n",
    "\n",
    "# Specify the URL to scrape\n",
    "url = \"https://en.wikipedia.org/wiki/Main_Page\"\n",
    "\n",
    "# Call the function to scrape h1 tags\n",
    "scrape_h1_tags(url)"
   ]
  },
  {
   "cell_type": "code",
   "execution_count": null,
   "id": "2208769f-bc0c-4161-9dca-39cd23dc630a",
   "metadata": {},
   "outputs": [],
   "source": [
    "17. Simple Web Server: Build a basic web server using Flask or Django.\n",
    "\n",
    "Input values:\n",
    "\n",
    "None (Automated process to start the \"web server\").\n",
    "\n",
    "Output value:\n",
    "\n",
    "The output indicates the URL where the web server is accessible.\n",
    "\n",
    "Example:\n",
    "\n",
    "Input values:\n",
    "None\n",
    "\n",
    "Output value:\n",
    "Web server started at http://127.0.0.1:5000/"
   ]
  },
  {
   "cell_type": "code",
   "execution_count": null,
   "id": "c9531ed0-e9d7-4720-96f5-554fed0625b1",
   "metadata": {},
   "outputs": [],
   "source": [
    "return"
   ]
  },
  {
   "cell_type": "code",
   "execution_count": null,
   "id": "a23eceef-9068-40a2-8d66-8b5694dfe8e9",
   "metadata": {},
   "outputs": [],
   "source": [
    "import pandas as pd\n",
    "df1=pd.DataFrame(data={'col1':})"
   ]
  },
  {
   "cell_type": "code",
   "execution_count": null,
   "id": "85976a0b-3160-4810-9a70-6de1d280a561",
   "metadata": {},
   "outputs": [],
   "source": []
  },
  {
   "cell_type": "code",
   "execution_count": null,
   "id": "e98fd7dd-1ba7-4c9f-a8a0-0e2063d3214b",
   "metadata": {},
   "outputs": [],
   "source": [
    "with open('')"
   ]
  },
  {
   "cell_type": "code",
   "execution_count": null,
   "id": "7507e5b6-c186-4ecf-93ab-8cd3d282d4ec",
   "metadata": {},
   "outputs": [],
   "source": []
  },
  {
   "cell_type": "code",
   "execution_count": null,
   "id": "a128481c-be7d-451c-a58b-d541d08f7312",
   "metadata": {},
   "outputs": [],
   "source": []
  },
  {
   "cell_type": "code",
   "execution_count": null,
   "id": "fab1e745-b423-48ea-9cf1-6ddb37584220",
   "metadata": {},
   "outputs": [],
   "source": []
  },
  {
   "cell_type": "code",
   "execution_count": null,
   "id": "1c3de269-d2ff-4118-8bb5-16e978beec3c",
   "metadata": {},
   "outputs": [],
   "source": []
  },
  {
   "cell_type": "code",
   "execution_count": null,
   "id": "3c6349b3-16a0-4095-8071-cdb64be80ee9",
   "metadata": {},
   "outputs": [],
   "source": []
  },
  {
   "cell_type": "code",
   "execution_count": null,
   "id": "cdd45431-4319-4f82-817a-89e7dd04d7af",
   "metadata": {},
   "outputs": [],
   "source": []
  },
  {
   "cell_type": "code",
   "execution_count": null,
   "id": "d817cf61-5400-456c-b990-bf1dd36095b4",
   "metadata": {},
   "outputs": [],
   "source": []
  },
  {
   "cell_type": "code",
   "execution_count": null,
   "id": "38c1fd7c-a3d5-480a-828c-d1c57ca8e494",
   "metadata": {},
   "outputs": [],
   "source": []
  },
  {
   "cell_type": "code",
   "execution_count": null,
   "id": "e5eb3f9e-a004-45fd-beb5-24e4de51daad",
   "metadata": {},
   "outputs": [],
   "source": []
  },
  {
   "cell_type": "code",
   "execution_count": null,
   "id": "238dbd92-2f8c-4b2b-b133-b11e7cc99107",
   "metadata": {},
   "outputs": [],
   "source": []
  },
  {
   "cell_type": "code",
   "execution_count": null,
   "id": "b3123292-5e74-4256-81d3-ebbf5de8671e",
   "metadata": {},
   "outputs": [],
   "source": []
  },
  {
   "cell_type": "code",
   "execution_count": null,
   "id": "b6467eef-d33a-4ea6-a593-77219881e2e8",
   "metadata": {},
   "outputs": [],
   "source": []
  },
  {
   "cell_type": "code",
   "execution_count": null,
   "id": "4b2ce356-c21f-4982-a5f2-db1cca009097",
   "metadata": {},
   "outputs": [],
   "source": []
  },
  {
   "cell_type": "code",
   "execution_count": null,
   "id": "1aa3b908-8682-408d-90cf-d44775fcb707",
   "metadata": {},
   "outputs": [],
   "source": []
  },
  {
   "cell_type": "code",
   "execution_count": null,
   "id": "1aa8495a-164f-470f-bd4b-9e8b9978cc9e",
   "metadata": {},
   "outputs": [],
   "source": []
  },
  {
   "cell_type": "code",
   "execution_count": null,
   "id": "b9391c32-2bcd-4fa3-8f3f-b4ef7608d906",
   "metadata": {},
   "outputs": [],
   "source": []
  },
  {
   "cell_type": "code",
   "execution_count": null,
   "id": "bddc46e2-30a7-4e5f-a51b-38441b445ef2",
   "metadata": {},
   "outputs": [],
   "source": []
  },
  {
   "cell_type": "code",
   "execution_count": null,
   "id": "5c696f93-3536-4947-ae54-e1d226478eac",
   "metadata": {},
   "outputs": [],
   "source": []
  },
  {
   "cell_type": "code",
   "execution_count": null,
   "id": "3c5f54a7-3e68-4c49-9b2e-001ebf72acf8",
   "metadata": {},
   "outputs": [],
   "source": []
  },
  {
   "cell_type": "code",
   "execution_count": null,
   "id": "bedd89be-ef20-46a5-9638-865dd5cb27e1",
   "metadata": {},
   "outputs": [],
   "source": []
  },
  {
   "cell_type": "code",
   "execution_count": null,
   "id": "9a0511ff-bcd2-4659-845b-7cba1a87936a",
   "metadata": {},
   "outputs": [],
   "source": []
  },
  {
   "cell_type": "code",
   "execution_count": null,
   "id": "e8597f87-9b55-454b-873d-6f2b5414748d",
   "metadata": {},
   "outputs": [],
   "source": []
  },
  {
   "cell_type": "code",
   "execution_count": null,
   "id": "0d6d7ce3-acdc-422e-9716-2945e71fce5d",
   "metadata": {},
   "outputs": [],
   "source": []
  },
  {
   "cell_type": "code",
   "execution_count": null,
   "id": "fde761b4-eba4-4f1e-8c2b-2ac29527316d",
   "metadata": {},
   "outputs": [],
   "source": []
  },
  {
   "cell_type": "code",
   "execution_count": null,
   "id": "2033033d-aaf0-4f88-9761-5ef9fe9d9c99",
   "metadata": {},
   "outputs": [],
   "source": []
  },
  {
   "cell_type": "code",
   "execution_count": null,
   "id": "04030cc8-35e8-41f5-9f9c-5d2afe78b9dd",
   "metadata": {},
   "outputs": [],
   "source": []
  },
  {
   "cell_type": "code",
   "execution_count": null,
   "id": "9da8e843-bf4c-4edc-93a2-45fe32dc5da5",
   "metadata": {},
   "outputs": [],
   "source": []
  },
  {
   "cell_type": "code",
   "execution_count": null,
   "id": "3886814b-bb29-4fc8-b679-060b31c52853",
   "metadata": {},
   "outputs": [],
   "source": []
  },
  {
   "cell_type": "code",
   "execution_count": null,
   "id": "c840e70f-02c0-4a0a-8357-fd54385a7f71",
   "metadata": {},
   "outputs": [],
   "source": []
  },
  {
   "cell_type": "code",
   "execution_count": null,
   "id": "bfa1ce08-7d59-47b6-a778-d82874d49d24",
   "metadata": {},
   "outputs": [],
   "source": []
  },
  {
   "cell_type": "code",
   "execution_count": null,
   "id": "dbccaf81-4962-486b-8f89-ff6988e67275",
   "metadata": {},
   "outputs": [],
   "source": []
  },
  {
   "cell_type": "code",
   "execution_count": null,
   "id": "f85813b4-5cad-41a8-809f-a9467533a721",
   "metadata": {},
   "outputs": [],
   "source": []
  },
  {
   "cell_type": "code",
   "execution_count": null,
   "id": "9afc77f3-0050-41be-b824-31b66a8467a5",
   "metadata": {},
   "outputs": [],
   "source": []
  },
  {
   "cell_type": "code",
   "execution_count": null,
   "id": "0c569f17-ca21-4951-bda1-3aefba3af1b7",
   "metadata": {},
   "outputs": [],
   "source": []
  },
  {
   "cell_type": "code",
   "execution_count": null,
   "id": "4f06033d-9c7a-4ac8-889d-553683fdde2e",
   "metadata": {},
   "outputs": [],
   "source": []
  },
  {
   "cell_type": "code",
   "execution_count": null,
   "id": "44475748-9b07-459a-97b5-1be2ab585377",
   "metadata": {},
   "outputs": [],
   "source": []
  },
  {
   "cell_type": "code",
   "execution_count": null,
   "id": "eb223a6e-a9e2-4716-95d2-1831ad12cdf6",
   "metadata": {},
   "outputs": [],
   "source": []
  },
  {
   "cell_type": "code",
   "execution_count": null,
   "id": "57c9502a-8b33-45a7-8960-06c916212fc8",
   "metadata": {},
   "outputs": [],
   "source": []
  },
  {
   "cell_type": "code",
   "execution_count": null,
   "id": "9d5e555b-fc9d-43a1-abc7-3975272809f2",
   "metadata": {},
   "outputs": [],
   "source": []
  },
  {
   "cell_type": "code",
   "execution_count": null,
   "id": "df703b4c-8e83-4ed5-a153-655343578110",
   "metadata": {},
   "outputs": [],
   "source": []
  },
  {
   "cell_type": "code",
   "execution_count": null,
   "id": "6010a98f-be0c-4cef-a1aa-84753271cd65",
   "metadata": {},
   "outputs": [],
   "source": []
  },
  {
   "cell_type": "code",
   "execution_count": null,
   "id": "59dde060-c801-4974-bdf2-69f62649bf9c",
   "metadata": {},
   "outputs": [],
   "source": []
  },
  {
   "cell_type": "code",
   "execution_count": null,
   "id": "1f26112b-62a2-4f07-b2df-63bfa7ea2733",
   "metadata": {},
   "outputs": [],
   "source": []
  },
  {
   "cell_type": "code",
   "execution_count": null,
   "id": "5867c539-efb8-4bf4-8b33-70c2157c1b33",
   "metadata": {},
   "outputs": [],
   "source": []
  },
  {
   "cell_type": "code",
   "execution_count": null,
   "id": "75c55e92-70df-4a16-89dd-aa6314136540",
   "metadata": {},
   "outputs": [],
   "source": []
  },
  {
   "cell_type": "code",
   "execution_count": null,
   "id": "1214cd56-c96f-461f-9bc3-cd72c09a6974",
   "metadata": {},
   "outputs": [],
   "source": []
  },
  {
   "cell_type": "code",
   "execution_count": null,
   "id": "7567df10-2853-4a9e-8f83-be56b47d9649",
   "metadata": {},
   "outputs": [],
   "source": []
  },
  {
   "cell_type": "code",
   "execution_count": null,
   "id": "6ec552a2-5635-4111-b98e-7ca3e6085b92",
   "metadata": {},
   "outputs": [],
   "source": []
  },
  {
   "cell_type": "code",
   "execution_count": null,
   "id": "49daec8e-8017-4abe-b68d-98ecdae59e91",
   "metadata": {},
   "outputs": [],
   "source": []
  },
  {
   "cell_type": "code",
   "execution_count": null,
   "id": "648542fd-7931-4d6b-8b22-02ff60cb2480",
   "metadata": {},
   "outputs": [],
   "source": []
  },
  {
   "cell_type": "code",
   "execution_count": null,
   "id": "db213fdf-70f3-47b7-9c36-5c0b6bd541a9",
   "metadata": {},
   "outputs": [],
   "source": []
  },
  {
   "cell_type": "code",
   "execution_count": null,
   "id": "7ae7b72b-7785-4e31-bfa0-be25e80897b4",
   "metadata": {},
   "outputs": [],
   "source": []
  },
  {
   "cell_type": "code",
   "execution_count": null,
   "id": "e431765f-26e0-45b3-add1-52e54cd4baac",
   "metadata": {},
   "outputs": [],
   "source": []
  },
  {
   "cell_type": "code",
   "execution_count": null,
   "id": "e6b222b4-dae8-48f2-95a4-54e2ff8fa7b8",
   "metadata": {},
   "outputs": [],
   "source": []
  },
  {
   "cell_type": "code",
   "execution_count": null,
   "id": "0055cc93-bd92-4a7d-9b84-57c9d8dcf85a",
   "metadata": {},
   "outputs": [],
   "source": []
  }
 ],
 "metadata": {
  "kernelspec": {
   "display_name": "Python 3 (ipykernel)",
   "language": "python",
   "name": "python3"
  },
  "language_info": {
   "codemirror_mode": {
    "name": "ipython",
    "version": 3
   },
   "file_extension": ".py",
   "mimetype": "text/x-python",
   "name": "python",
   "nbconvert_exporter": "python",
   "pygments_lexer": "ipython3",
   "version": "3.12.4"
  }
 },
 "nbformat": 4,
 "nbformat_minor": 5
}
