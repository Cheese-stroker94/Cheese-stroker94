{
 "cells": [
  {
   "cell_type": "code",
   "execution_count": 2,
   "id": "fc0a6ca9-b7de-43fb-9b59-a97ecd5d0fa7",
   "metadata": {},
   "outputs": [],
   "source": [
    "import pandas as pd\n",
    "import openpyxl\n",
    "from openpyxl import load_workbook\n",
    "from openpyxl.styles import PatternFill\n",
    "\n",
    "a=pd.read_excel('C:/Users/goswami/Jupyter Notebook/WFM Hrly Emp Charges - WK 48.xlsx',sheet_name=1)   #importing excel file\n",
    "aa=a.dropna(how='all',axis=1)\n",
    "\n",
    "#defining work order numbers\n",
    "reg=[30110,30111,30112,30115,30085,30097,113739]\n",
    "rwk=[30141,30142,30145,30123,30138,30146,30147]\n",
    "\n",
    "issue_code=['NON-CONFORMANCE','OSI']                                                        #defining issue codes\n",
    "\n",
    "#creating and filtering 3 dataframes\n",
    "WRK=aa.loc[(aa['Hour Type']=='REG') & (aa['Time Code']=='WRK')]\n",
    "charge_to_rework=aa.loc[(aa['Time Code']=='DIR80220-CAN') & (aa['Hour Type']=='REG') & (aa['Issue Code'].isin(issue_code)) & (aa['Work Order'].isin(reg))]\n",
    "missing_issue_code=aa.loc[(aa['Time Code']=='DIR80220-CAN') & (aa['Hour Type']=='REG') & (aa['Issue Code'].isnull()) & (aa['Work Order'].isin(rwk))]\n",
    "\n",
    "\n",
    "l1=[WRK,charge_to_rework,missing_issue_code]                                                #defining list of above 3 dataframes\n",
    "outp=pd.concat(l1)                                                                          #concatenating above 3 dataframes\n",
    "outp.to_excel('C:/Users/goswami/Jupyter Notebook/WFM erros1 no macro.xlsx',index=False)     #saving output to excel file\n",
    "wb=load_workbook('C:/Users/goswami/Jupyter Notebook/WFM erros1 no macro.xlsx')              #loading excel file at C:/Users/goswami/Jupyter Notebook/WFM erros1 no macro.xlsx\n",
    "ws=wb['Sheet1']                                                                             #accessing sheet1 in the excel file\n",
    "\n",
    "yellow=PatternFill(start_color='FFFF00',end_color='FFFF00',fill_type='solid')               #defining cell color as yellow\n",
    "\n",
    "text2=WRK.shape[0]+2+3                                                                      #defining row number to be written \"THESE TO BE CHARGED TO REWORK\"\n",
    "text3=WRK.shape[0]+2+3+charge_to_rework.shape[0]+3                                          #defining row number to be written \"THESE ARE MISSING ISSUE CODE\"\n",
    "\n",
    "\n",
    "ws.insert_rows(1)                                                                           #inserting rows in the excel file\n",
    "ws['A1']='THESE ARE WRK'                                                                    #writing to excel cell A1\n",
    "ws.cell(1,1).font=openpyxl.styles.Font(bold=True,color='FF0000')                            #writing to excel cell A1 and giving it a font color\n",
    "ws.cell(1,1).fill=yellow                                                                    #writing to excel cell A1 and giving it a cell color\n",
    "\n",
    "\n",
    "ws.insert_rows(WRK.shape[0]+3,3)                                                            #inserting rows in the excel file\n",
    "ws[f'A{text2}']='THESE TO BE CHARGED TO REWORK'                                             #writing to excel cell                   \n",
    "ws.cell(text2,1).font=openpyxl.styles.Font(bold=True,color='FF0000')                        #writing to excel cell and giving it a font color\n",
    "ws.cell(text2,1).fill=yellow                                                                #writing to excel cell and giving it a cell color\n",
    "\n",
    "\n",
    "ws.insert_rows(WRK.shape[0]+3+2+charge_to_rework.shape[0]+1,3)                              #inserting rows in the excel file\n",
    "ws[f'A{text3}']='THESE ARE MISSING ISSUE CODE'                                              #writing to excel cell      \n",
    "ws.cell(text3,1).font=openpyxl.styles.Font(bold=True,color='FF0000')                        #writing to excel cell and giving it a font color\n",
    "ws.cell(text3,1).fill=yellow                                                                #writing to excel cell and giving it a cell color\n",
    "\n",
    "\n",
    "#adjusting column widths\n",
    "ws.column_dimensions['A'].width=32\n",
    "ws.column_dimensions['L'].width=20\n",
    "\n",
    "wb.save('C:/Users/goswami/Desktop/New WFM PY.xlsx')                                         #saving excel file                                   "
   ]
  },
  {
   "cell_type": "code",
   "execution_count": 3,
   "id": "0aa3680f-af9b-4ecf-b739-4ffca6740b0d",
   "metadata": {},
   "outputs": [
    {
     "data": {
      "text/plain": [
       "pandas.core.frame.DataFrame"
      ]
     },
     "execution_count": 3,
     "metadata": {},
     "output_type": "execute_result"
    }
   ],
   "source": [
    "type(WRK)"
   ]
  },
  {
   "cell_type": "code",
   "execution_count": 3,
   "id": "4a0999aa-7376-44af-b785-5629c026e46f",
   "metadata": {},
   "outputs": [
    {
     "data": {
      "text/plain": [
       "190"
      ]
     },
     "execution_count": 3,
     "metadata": {},
     "output_type": "execute_result"
    }
   ],
   "source": [
    "text2"
   ]
  },
  {
   "cell_type": "code",
   "execution_count": null,
   "id": "49a1719b-279d-434b-8c60-aa25d995311c",
   "metadata": {},
   "outputs": [],
   "source": []
  },
  {
   "cell_type": "code",
   "execution_count": null,
   "id": "38f7bdf6-5e92-4fad-b0c4-b279ee4b5cf9",
   "metadata": {},
   "outputs": [],
   "source": []
  },
  {
   "cell_type": "code",
   "execution_count": null,
   "id": "b709f783-defc-4482-ab81-bd25eecd4e7d",
   "metadata": {},
   "outputs": [],
   "source": []
  },
  {
   "cell_type": "code",
   "execution_count": null,
   "id": "da58e54b-6a85-4e36-a6b6-5f48ba9c1ba9",
   "metadata": {},
   "outputs": [],
   "source": []
  },
  {
   "cell_type": "code",
   "execution_count": null,
   "id": "2c39678d-de09-44b0-9ad2-f632d30bc202",
   "metadata": {},
   "outputs": [],
   "source": []
  },
  {
   "cell_type": "code",
   "execution_count": null,
   "id": "fb83bfa3-cd78-4910-9e44-653aca4f4b4d",
   "metadata": {},
   "outputs": [],
   "source": []
  },
  {
   "cell_type": "code",
   "execution_count": null,
   "id": "f660ee79-f181-484e-ad02-b7e3cc5edf24",
   "metadata": {},
   "outputs": [],
   "source": []
  },
  {
   "cell_type": "code",
   "execution_count": null,
   "id": "3e614cd3-09e4-48c9-9a24-36d62132e2c9",
   "metadata": {},
   "outputs": [],
   "source": []
  },
  {
   "cell_type": "code",
   "execution_count": 5,
   "id": "9b484620-6c6f-4486-beec-838136ec2733",
   "metadata": {},
   "outputs": [],
   "source": [
    "import bs4\n",
    "from bs4 import BeautifulSoup"
   ]
  },
  {
   "cell_type": "code",
   "execution_count": 16,
   "id": "d97b69c9-18f8-4179-a7d6-01166c57aa56",
   "metadata": {},
   "outputs": [
    {
     "ename": "ModuleNotFoundError",
     "evalue": "No module named 'xlsxwriter'",
     "output_type": "error",
     "traceback": [
      "\u001b[1;31m---------------------------------------------------------------------------\u001b[0m",
      "\u001b[1;31mModuleNotFoundError\u001b[0m                       Traceback (most recent call last)",
      "Cell \u001b[1;32mIn[16], line 2\u001b[0m\n\u001b[0;32m      1\u001b[0m \u001b[38;5;28;01mimport\u001b[39;00m \u001b[38;5;21;01mpandas\u001b[39;00m \u001b[38;5;28;01mas\u001b[39;00m \u001b[38;5;21;01mpd\u001b[39;00m\n\u001b[1;32m----> 2\u001b[0m \u001b[38;5;28;01mimport\u001b[39;00m \u001b[38;5;21;01mxlsxwriter\u001b[39;00m\n\u001b[0;32m      5\u001b[0m \u001b[38;5;66;03m# Assuming 'a' is your original DataFrame\u001b[39;00m\n\u001b[0;32m      6\u001b[0m \u001b[38;5;66;03m# Create the DataFrames based on your conditions\u001b[39;00m\n\u001b[0;32m      7\u001b[0m reg \u001b[38;5;241m=\u001b[39m [\u001b[38;5;241m30110\u001b[39m, \u001b[38;5;241m30111\u001b[39m, \u001b[38;5;241m30112\u001b[39m, \u001b[38;5;241m30115\u001b[39m, \u001b[38;5;241m30085\u001b[39m, \u001b[38;5;241m30097\u001b[39m, \u001b[38;5;241m113739\u001b[39m]\n",
      "\u001b[1;31mModuleNotFoundError\u001b[0m: No module named 'xlsxwriter'"
     ]
    }
   ],
   "source": [
    "\n",
    "import pandas as pd\n",
    "import xlsxwriter\n",
    "\n",
    "\n",
    "# Assuming 'a' is your original DataFrame\n",
    "# Create the DataFrames based on your conditions\n",
    "reg = [30110, 30111, 30112, 30115, 30085, 30097, 113739]\n",
    "rwk = [30141, 30142, 30145, 30123, 30138, 30146, 30147]\n",
    "issue_code = ['NON-CONFORMANCE', 'OSI']\n",
    "\n",
    "WRK = a.loc[(a['Hour Type'] == 'REG') & (a['Time Code'] == 'WRK')]\n",
    "charge_to_rework = a.loc[(a['Time Code'] == 'DIR80220-CAN') & (a['Hour Type'] == 'REG') & (a['Issue Code'].isin(issue_code)) & (a['Work Order'].isin(reg))]\n",
    "missing_issue_code = a.loc[(a['Time Code'] == 'DIR80220-CAN') & (a['Hour Type'] == 'REG') & (a['Issue Code'].isnull()) & (a['Work Order'].isin(rwk))]\n",
    "\n",
    "# Create a Pandas Excel writer using XlsxWriter as the engine\n",
    "with pd.ExcelWriter('output.xlsx', engine='xlsxwriter') as writer:\n",
    "    # Write WRK DataFrame\n",
    "    WRK_description = \"This table contains work records for REG hour type.\"\n",
    "    WRK.to_excel(writer, sheet_name='Data', startrow=2, header=True, index=False)\n",
    "    worksheet = writer.sheets['Data']\n",
    "    worksheet.write(0, 0, WRK_description)\n",
    "    \n",
    "    # Write charge_to_rework DataFrame\n",
    "    charge_to_rework_description = \"This table contains charge to rework records.\"\n",
    "    charge_to_rework.to_excel(writer, sheet_name='Data', startrow=WRK.shape[0] + 4, header=True, index=False)\n",
    "    worksheet.write(WRK.shape[0] + 2, 0, charge_to_rework_description)\n",
    "    \n",
    "    # Write missing_issue_code DataFrame\n",
    "    missing_issue_code_description = \"This table contains records with missing issue codes.\"\n",
    "    missing_issue_code.to_excel(writer, sheet_name='Data', startrow=WRK.shape[0] + charge_to_rework.shape[0] + 6, header=True, index=False)\n",
    "    worksheet.write(WRK.shape[0] + charge_to_rework.shape[0] + 4, 0, missing_issue_code_description)\n",
    "\n",
    "print(\"DataFrames have been exported to 'output.xlsx' successfully!\")\n"
   ]
  },
  {
   "cell_type": "code",
   "execution_count": null,
   "id": "caeb5dc0-0ffa-4224-b587-d036b4b23ca8",
   "metadata": {},
   "outputs": [],
   "source": []
  },
  {
   "cell_type": "code",
   "execution_count": null,
   "id": "de319170-ef37-4fd9-bcaf-5e542bd7a247",
   "metadata": {},
   "outputs": [],
   "source": [
    "writer = pd.ExcelWriter('hello.xlsx', engine='xlsxwriter')"
   ]
  },
  {
   "cell_type": "code",
   "execution_count": null,
   "id": "61ccd718-5228-4155-a605-62bb9c704a3f",
   "metadata": {},
   "outputs": [],
   "source": []
  },
  {
   "cell_type": "code",
   "execution_count": null,
   "id": "eb415ae7-2a98-4132-9b39-e9b4040965b4",
   "metadata": {},
   "outputs": [],
   "source": []
  },
  {
   "cell_type": "code",
   "execution_count": null,
   "id": "24fe80b0-259e-4592-a745-866711374cdf",
   "metadata": {},
   "outputs": [],
   "source": [
    "\n",
    "\n",
    "wb = Workbook()\n",
    "ws = wb.active\n",
    "\n",
    "ws.merge_cells('A2:D2')\n",
    "ws.unmerge_cells('A2:D2')\n",
    "\n",
    "# or equivalently\n",
    "ws.merge_cells(start_row=2, start_column=1, end_row=4, end_column=4)\n",
    "ws.unmerge_cells(start_row=2, start_column=1, end_row=4, end_column=4)"
   ]
  },
  {
   "cell_type": "code",
   "execution_count": null,
   "id": "5aceab4c-ce1f-4a2a-aa16-31ede7859167",
   "metadata": {},
   "outputs": [],
   "source": []
  },
  {
   "cell_type": "code",
   "execution_count": null,
   "id": "c0de46b9-26d4-4534-a30b-b38ee869e793",
   "metadata": {},
   "outputs": [],
   "source": []
  },
  {
   "cell_type": "code",
   "execution_count": null,
   "id": "bac2600d-d399-4d00-b6b8-43c10f4dafb6",
   "metadata": {},
   "outputs": [],
   "source": []
  },
  {
   "cell_type": "code",
   "execution_count": null,
   "id": "ef62023a-ae27-48f4-ba24-9527ea94243a",
   "metadata": {},
   "outputs": [],
   "source": []
  },
  {
   "cell_type": "code",
   "execution_count": null,
   "id": "fa9d9990-8da9-4f36-b3ff-c9c6bdd46b97",
   "metadata": {},
   "outputs": [],
   "source": []
  },
  {
   "cell_type": "code",
   "execution_count": null,
   "id": "07512cc9-6ba7-430e-b69e-203d4d89fdff",
   "metadata": {},
   "outputs": [],
   "source": []
  },
  {
   "cell_type": "code",
   "execution_count": null,
   "id": "e87a1895-8459-411f-8a06-74e93bac9f45",
   "metadata": {},
   "outputs": [],
   "source": []
  },
  {
   "cell_type": "code",
   "execution_count": null,
   "id": "7db21650-d160-454c-8bb6-f9605474d28a",
   "metadata": {},
   "outputs": [],
   "source": []
  },
  {
   "cell_type": "code",
   "execution_count": null,
   "id": "4428ddca-f55a-4246-bf3c-f8530920f2ed",
   "metadata": {},
   "outputs": [],
   "source": []
  },
  {
   "cell_type": "code",
   "execution_count": null,
   "id": "d1c1f4e2-cae7-4664-b914-efcdf3e3aafd",
   "metadata": {},
   "outputs": [],
   "source": []
  },
  {
   "cell_type": "code",
   "execution_count": null,
   "id": "4378a851-c8ed-497f-add6-02ca38fadcdf",
   "metadata": {},
   "outputs": [],
   "source": []
  },
  {
   "cell_type": "code",
   "execution_count": null,
   "id": "1f9f90c9-34c0-4533-8e50-b95922319530",
   "metadata": {},
   "outputs": [],
   "source": []
  },
  {
   "cell_type": "code",
   "execution_count": null,
   "id": "02337d07-8483-4f25-93cc-c07b84377e30",
   "metadata": {},
   "outputs": [],
   "source": []
  },
  {
   "cell_type": "code",
   "execution_count": null,
   "id": "7cfebb2c-2bea-4483-bb0b-227f4a6fe5b8",
   "metadata": {},
   "outputs": [],
   "source": []
  },
  {
   "cell_type": "code",
   "execution_count": null,
   "id": "2a984642-10c2-4657-a929-d225828d9628",
   "metadata": {},
   "outputs": [],
   "source": []
  },
  {
   "cell_type": "code",
   "execution_count": null,
   "id": "60a3f349-b3f1-476e-9e01-aa324bef89b8",
   "metadata": {},
   "outputs": [],
   "source": []
  },
  {
   "cell_type": "code",
   "execution_count": null,
   "id": "7f9f81e8-1726-47a5-957b-1bd7ead6ada2",
   "metadata": {},
   "outputs": [],
   "source": []
  },
  {
   "cell_type": "code",
   "execution_count": null,
   "id": "0bb56925-6384-4bc1-8b6e-5d557b4b0ed5",
   "metadata": {},
   "outputs": [],
   "source": []
  },
  {
   "cell_type": "code",
   "execution_count": null,
   "id": "17e9c890-f1ef-43e4-8952-4b56a99cfedf",
   "metadata": {},
   "outputs": [],
   "source": []
  }
 ],
 "metadata": {
  "kernelspec": {
   "display_name": "base",
   "language": "python",
   "name": "python3"
  },
  "language_info": {
   "codemirror_mode": {
    "name": "ipython",
    "version": 3
   },
   "file_extension": ".py",
   "mimetype": "text/x-python",
   "name": "python",
   "nbconvert_exporter": "python",
   "pygments_lexer": "ipython3",
   "version": "3.12.4"
  }
 },
 "nbformat": 4,
 "nbformat_minor": 5
}
