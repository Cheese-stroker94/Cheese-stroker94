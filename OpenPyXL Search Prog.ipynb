{
 "cells": [
  {
   "cell_type": "code",
   "execution_count": 1,
   "metadata": {},
   "outputs": [
    {
     "name": "stderr",
     "output_type": "stream",
     "text": [
      "c:\\Users\\goswami\\AppData\\Local\\anaconda3\\Lib\\site-packages\\urllib3\\connectionpool.py:1099: InsecureRequestWarning: Unverified HTTPS request is being made to host 'openpyxl.readthedocs.io'. Adding certificate verification is strongly advised. See: https://urllib3.readthedocs.io/en/latest/advanced-usage.html#tls-warnings\n",
      "  warnings.warn(\n"
     ]
    }
   ],
   "source": [
    "from urllib import request\n",
    "import bs4\n",
    "from bs4 import BeautifulSoup\n",
    "import requests\n",
    "a=requests.get('https://openpyxl.readthedocs.io/en/3.1/api/openpyxl.html',verify=False).text\n",
    "soup=BeautifulSoup(a,'lxml')\n",
    "sources=soup.find_all('li',class_='toctree-l4')\n",
    "\n",
    "\n",
    "  \n",
    "\n"
   ]
  },
  {
   "cell_type": "code",
   "execution_count": 2,
   "metadata": {},
   "outputs": [],
   "source": [
    "from io import StringIO\n",
    "from unittest import result\n",
    "\n",
    "\n",
    "s=StringIO()\n",
    "for i in sources:\n",
    "    d=i.a\n",
    "    hh=d.attrs.get('href')\n",
    "    print(f'https://openpyxl.readthedocs.io/en/3.1/api/{hh}',file=s)\n",
    "    result_=s.getvalue().rstrip('\\n')\n",
    "yy=result_.split('\\n')\n"
   ]
  },
  {
   "cell_type": "code",
   "execution_count": 3,
   "metadata": {},
   "outputs": [],
   "source": [
    "import pandas as pd\n",
    "from sqlalchemy import column\n",
    "frame1=pd.DataFrame(yy)\n",
    "frame1.columns = ['Links']"
   ]
  },
  {
   "cell_type": "code",
   "execution_count": 4,
   "metadata": {},
   "outputs": [
    {
     "name": "stdout",
     "output_type": "stream",
     "text": [
      "                                                                                                   Links\n",
      "0             https://openpyxl.readthedocs.io/en/3.1/api/openpyxl.cell.cell.html#openpyxl.cell.cell.Cell\n",
      "1       https://openpyxl.readthedocs.io/en/3.1/api/openpyxl.cell.cell.html#openpyxl.cell.cell.MergedCell\n",
      "2    https://openpyxl.readthedocs.io/en/3.1/api/openpyxl.cell.cell.html#openpyxl.cell.cell.WriteOnlyCell\n",
      "3    https://openpyxl.readthedocs.io/en/3.1/api/openpyxl.cell.cell.html#openpyxl.cell.cell.get_time_f...\n",
      "4         https://openpyxl.readthedocs.io/en/3.1/api/openpyxl.cell.cell.html#openpyxl.cell.cell.get_type\n",
      "5    https://openpyxl.readthedocs.io/en/3.1/api/openpyxl.cell.read_only.html#openpyxl.cell.read_only....\n",
      "6    https://openpyxl.readthedocs.io/en/3.1/api/openpyxl.cell.read_only.html#openpyxl.cell.read_only....\n",
      "7    https://openpyxl.readthedocs.io/en/3.1/api/openpyxl.cell.rich_text.html#openpyxl.cell.rich_text....\n",
      "8    https://openpyxl.readthedocs.io/en/3.1/api/openpyxl.cell.rich_text.html#openpyxl.cell.rich_text....\n",
      "9       https://openpyxl.readthedocs.io/en/3.1/api/openpyxl.cell.text.html#openpyxl.cell.text.InlineFont\n",
      "10   https://openpyxl.readthedocs.io/en/3.1/api/openpyxl.cell.text.html#openpyxl.cell.text.PhoneticPr...\n",
      "11    https://openpyxl.readthedocs.io/en/3.1/api/openpyxl.cell.text.html#openpyxl.cell.text.PhoneticText\n",
      "12        https://openpyxl.readthedocs.io/en/3.1/api/openpyxl.cell.text.html#openpyxl.cell.text.RichText\n",
      "13            https://openpyxl.readthedocs.io/en/3.1/api/openpyxl.cell.text.html#openpyxl.cell.text.Text\n",
      "405  https://openpyxl.readthedocs.io/en/3.1/api/openpyxl.styles.cell_style.html#openpyxl.styles.cell_...\n",
      "406  https://openpyxl.readthedocs.io/en/3.1/api/openpyxl.styles.cell_style.html#openpyxl.styles.cell_...\n",
      "407  https://openpyxl.readthedocs.io/en/3.1/api/openpyxl.styles.cell_style.html#openpyxl.styles.cell_...\n",
      "408  https://openpyxl.readthedocs.io/en/3.1/api/openpyxl.styles.cell_style.html#openpyxl.styles.cell_...\n",
      "447  https://openpyxl.readthedocs.io/en/3.1/api/openpyxl.utils.cell.html#openpyxl.utils.cell.absolute...\n",
      "448  https://openpyxl.readthedocs.io/en/3.1/api/openpyxl.utils.cell.html#openpyxl.utils.cell.cols_fro...\n",
      "449  https://openpyxl.readthedocs.io/en/3.1/api/openpyxl.utils.cell.html#openpyxl.utils.cell.column_i...\n",
      "450  https://openpyxl.readthedocs.io/en/3.1/api/openpyxl.utils.cell.html#openpyxl.utils.cell.coordina...\n",
      "451  https://openpyxl.readthedocs.io/en/3.1/api/openpyxl.utils.cell.html#openpyxl.utils.cell.coordina...\n",
      "452  https://openpyxl.readthedocs.io/en/3.1/api/openpyxl.utils.cell.html#openpyxl.utils.cell.get_colu...\n",
      "453  https://openpyxl.readthedocs.io/en/3.1/api/openpyxl.utils.cell.html#openpyxl.utils.cell.get_colu...\n",
      "454  https://openpyxl.readthedocs.io/en/3.1/api/openpyxl.utils.cell.html#openpyxl.utils.cell.quote_sh...\n",
      "455  https://openpyxl.readthedocs.io/en/3.1/api/openpyxl.utils.cell.html#openpyxl.utils.cell.range_bo...\n",
      "456  https://openpyxl.readthedocs.io/en/3.1/api/openpyxl.utils.cell.html#openpyxl.utils.cell.range_to...\n",
      "457  https://openpyxl.readthedocs.io/en/3.1/api/openpyxl.utils.cell.html#openpyxl.utils.cell.rows_fro...\n",
      "520  https://openpyxl.readthedocs.io/en/3.1/api/openpyxl.worksheet.cell_range.html#openpyxl.worksheet...\n",
      "521  https://openpyxl.readthedocs.io/en/3.1/api/openpyxl.worksheet.cell_range.html#openpyxl.worksheet...\n",
      "522  https://openpyxl.readthedocs.io/en/3.1/api/openpyxl.worksheet.cell_watch.html#openpyxl.worksheet...\n",
      "523  https://openpyxl.readthedocs.io/en/3.1/api/openpyxl.worksheet.cell_watch.html#openpyxl.worksheet...\n",
      "532  https://openpyxl.readthedocs.io/en/3.1/api/openpyxl.worksheet.datavalidation.html#openpyxl.works...\n",
      "533  https://openpyxl.readthedocs.io/en/3.1/api/openpyxl.worksheet.datavalidation.html#openpyxl.works...\n"
     ]
    }
   ],
   "source": [
    "search_value=str(input('enter what u want to search'))\n",
    "df=frame1[frame1['Links'].str.contains(search_value)]\n",
    "pd.options.display.max_colwidth = 100\n",
    "print(df)\n"
   ]
  },
  {
   "cell_type": "code",
   "execution_count": null,
   "metadata": {},
   "outputs": [
    {
     "data": {
      "text/plain": [
       "'openpyxl.xml.functions.html#openpyxl.xml.functions.whitespace'"
      ]
     },
     "execution_count": 8,
     "metadata": {},
     "output_type": "execute_result"
    }
   ],
   "source": [
    "print(\"Hello World\")\n",
    "df = pd.read_csv(\"C:\\\\Users\\\\goswami\\\\Jupyter Notebook\\\\New folder\\\\OpenPyXL Search Prog.ipynb\")\n",
    "df="
   ]
  },
  {
   "cell_type": "code",
   "execution_count": null,
   "metadata": {},
   "outputs": [],
   "source": []
  },
  {
   "cell_type": "code",
   "execution_count": null,
   "metadata": {},
   "outputs": [],
   "source": []
  },
  {
   "cell_type": "code",
   "execution_count": null,
   "metadata": {},
   "outputs": [],
   "source": []
  },
  {
   "cell_type": "code",
   "execution_count": null,
   "metadata": {},
   "outputs": [],
   "source": []
  },
  {
   "cell_type": "code",
   "execution_count": null,
   "metadata": {},
   "outputs": [],
   "source": []
  },
  {
   "cell_type": "code",
   "execution_count": null,
   "metadata": {},
   "outputs": [],
   "source": []
  },
  {
   "cell_type": "code",
   "execution_count": null,
   "metadata": {},
   "outputs": [],
   "source": []
  },
  {
   "cell_type": "code",
   "execution_count": null,
   "metadata": {},
   "outputs": [],
   "source": []
  },
  {
   "cell_type": "code",
   "execution_count": null,
   "metadata": {},
   "outputs": [],
   "source": []
  },
  {
   "cell_type": "code",
   "execution_count": null,
   "metadata": {},
   "outputs": [],
   "source": []
  },
  {
   "cell_type": "code",
   "execution_count": null,
   "metadata": {},
   "outputs": [],
   "source": []
  },
  {
   "cell_type": "code",
   "execution_count": null,
   "metadata": {},
   "outputs": [],
   "source": []
  },
  {
   "cell_type": "code",
   "execution_count": null,
   "metadata": {},
   "outputs": [],
   "source": []
  },
  {
   "cell_type": "code",
   "execution_count": null,
   "metadata": {},
   "outputs": [],
   "source": []
  },
  {
   "cell_type": "code",
   "execution_count": null,
   "metadata": {},
   "outputs": [],
   "source": []
  },
  {
   "cell_type": "code",
   "execution_count": null,
   "metadata": {},
   "outputs": [],
   "source": []
  },
  {
   "cell_type": "code",
   "execution_count": null,
   "metadata": {},
   "outputs": [],
   "source": []
  },
  {
   "cell_type": "code",
   "execution_count": null,
   "metadata": {},
   "outputs": [],
   "source": []
  },
  {
   "cell_type": "code",
   "execution_count": null,
   "metadata": {},
   "outputs": [],
   "source": []
  },
  {
   "cell_type": "code",
   "execution_count": null,
   "metadata": {},
   "outputs": [],
   "source": []
  },
  {
   "cell_type": "code",
   "execution_count": null,
   "metadata": {},
   "outputs": [],
   "source": []
  },
  {
   "cell_type": "code",
   "execution_count": null,
   "metadata": {},
   "outputs": [],
   "source": []
  },
  {
   "cell_type": "code",
   "execution_count": null,
   "metadata": {},
   "outputs": [],
   "source": []
  },
  {
   "cell_type": "code",
   "execution_count": null,
   "metadata": {},
   "outputs": [],
   "source": []
  },
  {
   "cell_type": "code",
   "execution_count": null,
   "metadata": {},
   "outputs": [],
   "source": []
  },
  {
   "cell_type": "code",
   "execution_count": null,
   "metadata": {},
   "outputs": [],
   "source": []
  },
  {
   "cell_type": "code",
   "execution_count": null,
   "metadata": {},
   "outputs": [],
   "source": []
  },
  {
   "cell_type": "code",
   "execution_count": null,
   "metadata": {},
   "outputs": [],
   "source": []
  },
  {
   "cell_type": "code",
   "execution_count": null,
   "metadata": {},
   "outputs": [],
   "source": []
  },
  {
   "cell_type": "code",
   "execution_count": null,
   "metadata": {},
   "outputs": [],
   "source": []
  },
  {
   "cell_type": "code",
   "execution_count": null,
   "metadata": {},
   "outputs": [],
   "source": []
  },
  {
   "cell_type": "code",
   "execution_count": null,
   "metadata": {},
   "outputs": [],
   "source": []
  },
  {
   "cell_type": "code",
   "execution_count": null,
   "metadata": {},
   "outputs": [],
   "source": []
  },
  {
   "cell_type": "code",
   "execution_count": null,
   "metadata": {},
   "outputs": [],
   "source": []
  }
 ],
 "metadata": {
  "kernelspec": {
   "display_name": "base",
   "language": "python",
   "name": "python3"
  },
  "language_info": {
   "codemirror_mode": {
    "name": "ipython",
    "version": 3
   },
   "file_extension": ".py",
   "mimetype": "text/x-python",
   "name": "python",
   "nbconvert_exporter": "python",
   "pygments_lexer": "ipython3",
   "version": "3.12.4"
  }
 },
 "nbformat": 4,
 "nbformat_minor": 2
}
