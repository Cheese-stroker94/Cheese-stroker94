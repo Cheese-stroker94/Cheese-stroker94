{
 "cells": [
  {
   "cell_type": "code",
   "execution_count": 53,
   "id": "105eea4d-11ff-4981-a1f4-329ebf41573a",
   "metadata": {
    "scrolled": true
   },
   "outputs": [
    {
     "name": "stdout",
     "output_type": "stream",
     "text": [
      "Python for beginners costs 20$\n",
      "Python Web Development costs 50$\n",
      "Python Machine Learning costs 100$\n"
     ]
    }
   ],
   "source": [
    "from bs4 import BeautifulSoup\n",
    "with open('home.html','r') as my_file:\n",
    "    content=my_file.read()\n",
    "soup=BeautifulSoup(content,'lxml')\n",
    "cards=soup.find_all(class_='card')\n",
    "for i in cards:\n",
    "     course_name=i.h5.text\n",
    "     course_price=i.a.text.split()[-1]\n",
    "     print(f'{course_name} costs {course_price}')\n",
    "     "
   ]
  },
  {
   "cell_type": "code",
   "execution_count": null,
   "id": "408c0e88-0654-4cc9-9b45-72631016453f",
   "metadata": {},
   "outputs": [],
   "source": []
  },
  {
   "cell_type": "code",
   "execution_count": null,
   "id": "215eff68-7f48-40c1-a46a-24ceeb317c33",
   "metadata": {},
   "outputs": [],
   "source": []
  }
 ],
 "metadata": {
  "kernelspec": {
   "display_name": "Python 3 (ipykernel)",
   "language": "python",
   "name": "python3"
  },
  "language_info": {
   "codemirror_mode": {
    "name": "ipython",
    "version": 3
   },
   "file_extension": ".py",
   "mimetype": "text/x-python",
   "name": "python",
   "nbconvert_exporter": "python",
   "pygments_lexer": "ipython3",
   "version": "3.12.4"
  }
 },
 "nbformat": 4,
 "nbformat_minor": 5
}
