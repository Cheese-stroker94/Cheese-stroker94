{
 "cells": [
  {
   "cell_type": "code",
   "execution_count": null,
   "id": "e11b2df7-b2a5-4e1f-894d-50d74592874b",
   "metadata": {},
   "outputs": [],
   "source": [
    "1. Load a CSV file into a Pandas DataFrame."
   ]
  },
  {
   "cell_type": "code",
   "execution_count": 3,
   "id": "b6305009-a469-407d-87cd-3c70777e55b8",
   "metadata": {},
   "outputs": [],
   "source": [
    "import pandas as pd\n",
    "import numpy as np"
   ]
  },
  {
   "cell_type": "code",
   "execution_count": null,
   "id": "227e319a-50cc-4d36-afda-bf8a94ac5426",
   "metadata": {},
   "outputs": [],
   "source": [
    "a=pd.read_csv('homelessness.csv')\n",
    "print(a)"
   ]
  },
  {
   "cell_type": "code",
   "execution_count": null,
   "id": "90f7ecf4-7ee9-426b-961b-a608c7afb231",
   "metadata": {},
   "outputs": [],
   "source": [
    "2. Create a DataFrame from a NumPy array with custom column names."
   ]
  },
  {
   "cell_type": "code",
   "execution_count": 7,
   "id": "d376adac-da8c-4daa-b6f7-4e55bbe7f63a",
   "metadata": {},
   "outputs": [],
   "source": [
    "numpy_array = np.array([[1, 2, 3], \n",
    "                        [4, 5, 6], \n",
    "                        [7, 8, 9]])"
   ]
  },
  {
   "cell_type": "code",
   "execution_count": 18,
   "id": "a5d683ac-ed27-4862-a12c-a7fc9c1d7d3b",
   "metadata": {},
   "outputs": [],
   "source": [
    "a=pd.DataFrame(numpy_array,columns=['a','b','c'])"
   ]
  },
  {
   "cell_type": "code",
   "execution_count": 19,
   "id": "487bca8d-09c3-4d6f-9455-1c76a6ad4f6d",
   "metadata": {},
   "outputs": [
    {
     "data": {
      "text/html": [
       "<div>\n",
       "<style scoped>\n",
       "    .dataframe tbody tr th:only-of-type {\n",
       "        vertical-align: middle;\n",
       "    }\n",
       "\n",
       "    .dataframe tbody tr th {\n",
       "        vertical-align: top;\n",
       "    }\n",
       "\n",
       "    .dataframe thead th {\n",
       "        text-align: right;\n",
       "    }\n",
       "</style>\n",
       "<table border=\"1\" class=\"dataframe\">\n",
       "  <thead>\n",
       "    <tr style=\"text-align: right;\">\n",
       "      <th></th>\n",
       "      <th>a</th>\n",
       "      <th>b</th>\n",
       "      <th>c</th>\n",
       "    </tr>\n",
       "  </thead>\n",
       "  <tbody>\n",
       "    <tr>\n",
       "      <th>0</th>\n",
       "      <td>1</td>\n",
       "      <td>2</td>\n",
       "      <td>3</td>\n",
       "    </tr>\n",
       "    <tr>\n",
       "      <th>1</th>\n",
       "      <td>4</td>\n",
       "      <td>5</td>\n",
       "      <td>6</td>\n",
       "    </tr>\n",
       "    <tr>\n",
       "      <th>2</th>\n",
       "      <td>7</td>\n",
       "      <td>8</td>\n",
       "      <td>9</td>\n",
       "    </tr>\n",
       "  </tbody>\n",
       "</table>\n",
       "</div>"
      ],
      "text/plain": [
       "   a  b  c\n",
       "0  1  2  3\n",
       "1  4  5  6\n",
       "2  7  8  9"
      ]
     },
     "execution_count": 19,
     "metadata": {},
     "output_type": "execute_result"
    }
   ],
   "source": [
    "a"
   ]
  },
  {
   "cell_type": "code",
   "execution_count": null,
   "id": "da48e33b-4b6d-4136-b82d-0d4b01568989",
   "metadata": {},
   "outputs": [],
   "source": [
    "3. Select rows from a DataFrame based on multiple conditions."
   ]
  },
  {
   "cell_type": "code",
   "execution_count": 80,
   "id": "e95a1b24-daef-4efb-9b2a-f00048e0f403",
   "metadata": {},
   "outputs": [
    {
     "data": {
      "text/plain": [
       "0    52\n",
       "1    64\n",
       "2    50\n",
       "3    62\n",
       "4    56\n",
       "Name: Age, dtype: int64"
      ]
     },
     "execution_count": 80,
     "metadata": {},
     "output_type": "execute_result"
    }
   ],
   "source": [
    "data = {'Name': ['Teodosija', 'Sutton', 'Taneli', 'Ravshan', 'Ross'],\n",
    "        'Age': [26, 32, 25, 31, 28],\n",
    "        'Salary': [50000, 60000, 45000, 70000, 55000]}\n",
    "a=pd.DataFrame(data)\n",
    "np.multiply(a['Age'],2)"
   ]
  },
  {
   "cell_type": "code",
   "execution_count": 30,
   "id": "db49474a-eddc-440d-9bca-53dcfdc57eda",
   "metadata": {},
   "outputs": [
    {
     "data": {
      "text/plain": [
       "0    False\n",
       "1     True\n",
       "2    False\n",
       "3     True\n",
       "4     True\n",
       "Name: Age, dtype: bool"
      ]
     },
     "execution_count": 30,
     "metadata": {},
     "output_type": "execute_result"
    }
   ],
   "source": [
    "a['Age']>26\n"
   ]
  },
  {
   "cell_type": "code",
   "execution_count": null,
   "id": "4e9fb354-94f1-4fd3-921f-d7dad54dbfd3",
   "metadata": {},
   "outputs": [],
   "source": []
  },
  {
   "cell_type": "code",
   "execution_count": 59,
   "id": "18fbfcbc-d9d9-4dab-8603-74f51e1c75ac",
   "metadata": {},
   "outputs": [],
   "source": [
    "b=a[(a['Age']>25)|(a['Salary']>50000)]"
   ]
  },
  {
   "cell_type": "code",
   "execution_count": 60,
   "id": "6b81a07c-6056-475b-9b3e-caf3676fd675",
   "metadata": {},
   "outputs": [
    {
     "name": "stdout",
     "output_type": "stream",
     "text": [
      "        Name  Age  Salary\n",
      "0  Teodosija   26   50000\n",
      "1     Sutton   32   60000\n",
      "3    Ravshan   31   70000\n",
      "4       Ross   28   55000\n"
     ]
    }
   ],
   "source": [
    "print(b)"
   ]
  },
  {
   "cell_type": "code",
   "execution_count": null,
   "id": "3b5fc055-c2a1-4cb8-b5a7-2a8e89fae706",
   "metadata": {},
   "outputs": [],
   "source": [
    "4. Select the first and last 7 rows of a Pandas DataFrame."
   ]
  },
  {
   "cell_type": "code",
   "execution_count": 67,
   "id": "5e71e742-0e34-4ed7-af24-bdf8a8f86757",
   "metadata": {},
   "outputs": [],
   "source": [
    "import pandas as pd\n",
    "\n",
    "# Create a sample DataFrame\n",
    "data = {'Name': ['Teodosija', 'Sutton', 'Taneli', 'Ravshan', 'Ross', 'Alice', 'Bob', 'Charlie', 'David', 'Emily'],\n",
    "        'Age': [26, 32, 25, 31, 28, 22, 35, 30, 40, 28],\n",
    "        'Salary': [50000, 60000, 45000, 70000, 55000, 60000, 70000, 55000, 75000, 65000]}\n",
    "a=pd.DataFrame(data)"
   ]
  },
  {
   "cell_type": "code",
   "execution_count": 69,
   "id": "173b7bb1-22f3-4a8c-8f8b-a3458b098dd1",
   "metadata": {},
   "outputs": [
    {
     "data": {
      "text/html": [
       "<div>\n",
       "<style scoped>\n",
       "    .dataframe tbody tr th:only-of-type {\n",
       "        vertical-align: middle;\n",
       "    }\n",
       "\n",
       "    .dataframe tbody tr th {\n",
       "        vertical-align: top;\n",
       "    }\n",
       "\n",
       "    .dataframe thead th {\n",
       "        text-align: right;\n",
       "    }\n",
       "</style>\n",
       "<table border=\"1\" class=\"dataframe\">\n",
       "  <thead>\n",
       "    <tr style=\"text-align: right;\">\n",
       "      <th></th>\n",
       "      <th>Name</th>\n",
       "      <th>Age</th>\n",
       "      <th>Salary</th>\n",
       "    </tr>\n",
       "  </thead>\n",
       "  <tbody>\n",
       "    <tr>\n",
       "      <th>0</th>\n",
       "      <td>Teodosija</td>\n",
       "      <td>26</td>\n",
       "      <td>50000</td>\n",
       "    </tr>\n",
       "    <tr>\n",
       "      <th>1</th>\n",
       "      <td>Sutton</td>\n",
       "      <td>32</td>\n",
       "      <td>60000</td>\n",
       "    </tr>\n",
       "  </tbody>\n",
       "</table>\n",
       "</div>"
      ],
      "text/plain": [
       "        Name  Age  Salary\n",
       "0  Teodosija   26   50000\n",
       "1     Sutton   32   60000"
      ]
     },
     "execution_count": 69,
     "metadata": {},
     "output_type": "execute_result"
    }
   ],
   "source": [
    "a.head(2)"
   ]
  },
  {
   "cell_type": "code",
   "execution_count": 82,
   "id": "995d9529-859d-4cc5-961d-6638cb54cec0",
   "metadata": {},
   "outputs": [],
   "source": [
    "data = {'Name': ['Teodosija', 'Sutton', 'Taneli', 'Ravshan', 'Ross'],\n",
    "        'Age': [26, 32, 25, 31, 28],\n",
    "        'Salary': [50000, 60000, 45000, 70000, 55000]}\n",
    "a=pd.DataFrame(data)\n",
    "\n",
    "a[b]=np.multiply(a['Age'],2)"
   ]
  },
  {
   "cell_type": "code",
   "execution_count": 83,
   "id": "d4ebeb88-dac8-4fed-b32e-3df5eb5c4c62",
   "metadata": {},
   "outputs": [
    {
     "data": {
      "text/html": [
       "<div>\n",
       "<style scoped>\n",
       "    .dataframe tbody tr th:only-of-type {\n",
       "        vertical-align: middle;\n",
       "    }\n",
       "\n",
       "    .dataframe tbody tr th {\n",
       "        vertical-align: top;\n",
       "    }\n",
       "\n",
       "    .dataframe thead th {\n",
       "        text-align: right;\n",
       "    }\n",
       "</style>\n",
       "<table border=\"1\" class=\"dataframe\">\n",
       "  <thead>\n",
       "    <tr style=\"text-align: right;\">\n",
       "      <th></th>\n",
       "      <th>Name</th>\n",
       "      <th>Age</th>\n",
       "      <th>Salary</th>\n",
       "      <th>52</th>\n",
       "      <th>64</th>\n",
       "      <th>50</th>\n",
       "      <th>62</th>\n",
       "      <th>56</th>\n",
       "    </tr>\n",
       "  </thead>\n",
       "  <tbody>\n",
       "    <tr>\n",
       "      <th>0</th>\n",
       "      <td>Teodosija</td>\n",
       "      <td>26</td>\n",
       "      <td>50000</td>\n",
       "      <td>52</td>\n",
       "      <td>64</td>\n",
       "      <td>50</td>\n",
       "      <td>62</td>\n",
       "      <td>56</td>\n",
       "    </tr>\n",
       "    <tr>\n",
       "      <th>1</th>\n",
       "      <td>Sutton</td>\n",
       "      <td>32</td>\n",
       "      <td>60000</td>\n",
       "      <td>52</td>\n",
       "      <td>64</td>\n",
       "      <td>50</td>\n",
       "      <td>62</td>\n",
       "      <td>56</td>\n",
       "    </tr>\n",
       "    <tr>\n",
       "      <th>2</th>\n",
       "      <td>Taneli</td>\n",
       "      <td>25</td>\n",
       "      <td>45000</td>\n",
       "      <td>52</td>\n",
       "      <td>64</td>\n",
       "      <td>50</td>\n",
       "      <td>62</td>\n",
       "      <td>56</td>\n",
       "    </tr>\n",
       "    <tr>\n",
       "      <th>3</th>\n",
       "      <td>Ravshan</td>\n",
       "      <td>31</td>\n",
       "      <td>70000</td>\n",
       "      <td>52</td>\n",
       "      <td>64</td>\n",
       "      <td>50</td>\n",
       "      <td>62</td>\n",
       "      <td>56</td>\n",
       "    </tr>\n",
       "    <tr>\n",
       "      <th>4</th>\n",
       "      <td>Ross</td>\n",
       "      <td>28</td>\n",
       "      <td>55000</td>\n",
       "      <td>52</td>\n",
       "      <td>64</td>\n",
       "      <td>50</td>\n",
       "      <td>62</td>\n",
       "      <td>56</td>\n",
       "    </tr>\n",
       "  </tbody>\n",
       "</table>\n",
       "</div>"
      ],
      "text/plain": [
       "        Name  Age  Salary  52  64  50  62  56\n",
       "0  Teodosija   26   50000  52  64  50  62  56\n",
       "1     Sutton   32   60000  52  64  50  62  56\n",
       "2     Taneli   25   45000  52  64  50  62  56\n",
       "3    Ravshan   31   70000  52  64  50  62  56\n",
       "4       Ross   28   55000  52  64  50  62  56"
      ]
     },
     "execution_count": 83,
     "metadata": {},
     "output_type": "execute_result"
    }
   ],
   "source": [
    "a"
   ]
  },
  {
   "cell_type": "code",
   "execution_count": null,
   "id": "5e01aaa2-846a-4684-ac4c-d09f2962f2d6",
   "metadata": {},
   "outputs": [],
   "source": []
  },
  {
   "cell_type": "code",
   "execution_count": null,
   "id": "5c96bb61-27f2-4dcb-8101-8ae38a5a6bae",
   "metadata": {},
   "outputs": [],
   "source": []
  },
  {
   "cell_type": "code",
   "execution_count": null,
   "id": "65f2ea99-e9f2-4f59-ad3d-862587b98981",
   "metadata": {},
   "outputs": [],
   "source": []
  },
  {
   "cell_type": "code",
   "execution_count": null,
   "id": "b5bb6a4d-251d-491d-a909-03095a0c1306",
   "metadata": {},
   "outputs": [],
   "source": []
  },
  {
   "cell_type": "code",
   "execution_count": null,
   "id": "fd3df9ea-3104-456e-9f0d-e67b8de3ffd0",
   "metadata": {},
   "outputs": [],
   "source": []
  },
  {
   "cell_type": "code",
   "execution_count": null,
   "id": "3ab14ad0-c7c6-4505-ad83-8320a228f9b4",
   "metadata": {},
   "outputs": [],
   "source": []
  },
  {
   "cell_type": "code",
   "execution_count": null,
   "id": "ef3a6c24-6e79-45e4-9ced-f1cd5a1eb241",
   "metadata": {},
   "outputs": [],
   "source": []
  },
  {
   "cell_type": "code",
   "execution_count": null,
   "id": "1e1e5065-acbb-4a1d-a0a1-75e94eaa247a",
   "metadata": {},
   "outputs": [],
   "source": []
  },
  {
   "cell_type": "code",
   "execution_count": null,
   "id": "f836addb-db3a-463e-974f-59e270c12684",
   "metadata": {},
   "outputs": [],
   "source": []
  },
  {
   "cell_type": "code",
   "execution_count": null,
   "id": "08fb2799-3e1c-44d1-b4b2-255a78e4fffc",
   "metadata": {},
   "outputs": [],
   "source": []
  },
  {
   "cell_type": "code",
   "execution_count": null,
   "id": "49ee6a6e-3a75-4cab-9bb4-b08f0aa563e0",
   "metadata": {},
   "outputs": [],
   "source": []
  },
  {
   "cell_type": "code",
   "execution_count": null,
   "id": "7024662d-7d3e-403b-977e-3265a31d0474",
   "metadata": {},
   "outputs": [],
   "source": []
  },
  {
   "cell_type": "code",
   "execution_count": null,
   "id": "0f97c8f4-6140-43c2-ab16-50d91a3fbddd",
   "metadata": {},
   "outputs": [],
   "source": []
  },
  {
   "cell_type": "code",
   "execution_count": null,
   "id": "71820f0b-ae6d-49f0-8ea1-1847c96d7ef8",
   "metadata": {},
   "outputs": [],
   "source": []
  },
  {
   "cell_type": "code",
   "execution_count": null,
   "id": "1422d99a-2fa2-4acb-a4ac-b0c99262a713",
   "metadata": {},
   "outputs": [],
   "source": []
  },
  {
   "cell_type": "code",
   "execution_count": null,
   "id": "1d684726-66a9-4169-a40d-da58f2653fa7",
   "metadata": {},
   "outputs": [],
   "source": []
  },
  {
   "cell_type": "code",
   "execution_count": null,
   "id": "19816f11-dcad-48fb-96e0-03a2eb51e439",
   "metadata": {},
   "outputs": [],
   "source": []
  },
  {
   "cell_type": "code",
   "execution_count": null,
   "id": "27fa88df-fbc5-45d7-8445-b13e558947b8",
   "metadata": {},
   "outputs": [],
   "source": []
  },
  {
   "cell_type": "code",
   "execution_count": null,
   "id": "7f7d63be-7630-4b34-b314-ae5a03d866f6",
   "metadata": {},
   "outputs": [],
   "source": []
  },
  {
   "cell_type": "code",
   "execution_count": null,
   "id": "89f8839a-c2d6-42c7-bc87-2bbd846dbcbc",
   "metadata": {},
   "outputs": [],
   "source": []
  },
  {
   "cell_type": "code",
   "execution_count": null,
   "id": "a9e2997c-1a78-40ea-a53f-bfb2c48fde1e",
   "metadata": {},
   "outputs": [],
   "source": []
  },
  {
   "cell_type": "code",
   "execution_count": null,
   "id": "9df6a1e6-cb6a-4a8c-87c1-76754f5168b1",
   "metadata": {},
   "outputs": [],
   "source": []
  },
  {
   "cell_type": "code",
   "execution_count": null,
   "id": "4fa7f77e-dfbc-406f-9579-a835b40635be",
   "metadata": {},
   "outputs": [],
   "source": []
  },
  {
   "cell_type": "code",
   "execution_count": null,
   "id": "4d142aa5-7d5f-4a97-9627-8d58ba3de9e7",
   "metadata": {},
   "outputs": [],
   "source": []
  },
  {
   "cell_type": "code",
   "execution_count": null,
   "id": "bdf9d560-c0b0-4951-99f4-0be52151a242",
   "metadata": {},
   "outputs": [],
   "source": []
  },
  {
   "cell_type": "code",
   "execution_count": null,
   "id": "d5ff3722-e0d7-4644-84a9-b6e78989f753",
   "metadata": {},
   "outputs": [],
   "source": []
  },
  {
   "cell_type": "code",
   "execution_count": null,
   "id": "dac50199-891d-4a55-aa80-68c262750164",
   "metadata": {},
   "outputs": [],
   "source": []
  },
  {
   "cell_type": "code",
   "execution_count": null,
   "id": "4da3e512-ee91-431f-aebd-84ffca24d597",
   "metadata": {},
   "outputs": [],
   "source": []
  },
  {
   "cell_type": "code",
   "execution_count": null,
   "id": "01c6033f-d0af-4b83-8374-55c9b0e2a0f4",
   "metadata": {},
   "outputs": [],
   "source": []
  },
  {
   "cell_type": "code",
   "execution_count": null,
   "id": "d3358baf-abb4-4014-9ac1-2ca54e00eeeb",
   "metadata": {},
   "outputs": [],
   "source": []
  },
  {
   "cell_type": "code",
   "execution_count": null,
   "id": "e94a676e-85fd-4f75-8d87-f1675d61c4a2",
   "metadata": {},
   "outputs": [],
   "source": []
  },
  {
   "cell_type": "code",
   "execution_count": null,
   "id": "bb73dc14-b9cb-402e-9981-150780e2da36",
   "metadata": {},
   "outputs": [],
   "source": []
  },
  {
   "cell_type": "code",
   "execution_count": null,
   "id": "83eea502-1d4d-4f57-9729-4e604e0f5590",
   "metadata": {},
   "outputs": [],
   "source": []
  },
  {
   "cell_type": "code",
   "execution_count": null,
   "id": "fa75df83-6b77-418b-9a8b-78d770adf814",
   "metadata": {},
   "outputs": [],
   "source": []
  },
  {
   "cell_type": "code",
   "execution_count": null,
   "id": "15d2cfdb-2850-4437-abc9-dba935d57996",
   "metadata": {},
   "outputs": [],
   "source": []
  },
  {
   "cell_type": "code",
   "execution_count": null,
   "id": "7dde50ec-5b72-401f-ab66-50f36535e794",
   "metadata": {},
   "outputs": [],
   "source": []
  },
  {
   "cell_type": "code",
   "execution_count": null,
   "id": "867b6bbf-09fa-4801-8fd2-062c27e8b5f4",
   "metadata": {},
   "outputs": [],
   "source": []
  },
  {
   "cell_type": "code",
   "execution_count": null,
   "id": "5a5df3f0-5287-4d2d-9589-f41cd3373b24",
   "metadata": {},
   "outputs": [],
   "source": []
  },
  {
   "cell_type": "code",
   "execution_count": null,
   "id": "aae764a7-78fe-41af-9740-b4b9efa8ecc3",
   "metadata": {},
   "outputs": [],
   "source": []
  },
  {
   "cell_type": "code",
   "execution_count": null,
   "id": "0333a0d9-3db2-40fc-b673-f7964666046e",
   "metadata": {},
   "outputs": [],
   "source": []
  },
  {
   "cell_type": "code",
   "execution_count": null,
   "id": "6402d9fb-80e2-43c4-9f74-f37446d29b91",
   "metadata": {},
   "outputs": [],
   "source": []
  },
  {
   "cell_type": "code",
   "execution_count": null,
   "id": "68613182-46b6-4cb2-b304-7471f71bdfa4",
   "metadata": {},
   "outputs": [],
   "source": []
  },
  {
   "cell_type": "code",
   "execution_count": null,
   "id": "1b5b1779-a78e-437e-9c77-6f637fa4efd3",
   "metadata": {},
   "outputs": [],
   "source": []
  },
  {
   "cell_type": "code",
   "execution_count": null,
   "id": "fe078e9a-def3-4ef5-9ed4-e4697101bf67",
   "metadata": {},
   "outputs": [],
   "source": []
  },
  {
   "cell_type": "code",
   "execution_count": null,
   "id": "e0014bf6-abd6-443d-b098-bc09400a5aa9",
   "metadata": {},
   "outputs": [],
   "source": []
  },
  {
   "cell_type": "code",
   "execution_count": null,
   "id": "7f120dc8-7547-4dd4-b813-790c2d79d604",
   "metadata": {},
   "outputs": [],
   "source": []
  },
  {
   "cell_type": "code",
   "execution_count": null,
   "id": "c0c697e4-d95d-43e5-bb0c-cebf46e8de30",
   "metadata": {},
   "outputs": [],
   "source": []
  },
  {
   "cell_type": "code",
   "execution_count": null,
   "id": "47305e09-8245-48f9-8a30-abf0ee8562f6",
   "metadata": {},
   "outputs": [],
   "source": []
  },
  {
   "cell_type": "code",
   "execution_count": null,
   "id": "0c10975f-96d2-465a-a0eb-d948aff41859",
   "metadata": {},
   "outputs": [],
   "source": []
  },
  {
   "cell_type": "code",
   "execution_count": null,
   "id": "84fb2250-78ec-4e1a-9f2e-d2c495326466",
   "metadata": {},
   "outputs": [],
   "source": []
  },
  {
   "cell_type": "code",
   "execution_count": null,
   "id": "abc67dd7-7efa-4c25-b04e-15eb27b6e298",
   "metadata": {},
   "outputs": [],
   "source": []
  },
  {
   "cell_type": "code",
   "execution_count": null,
   "id": "ccbe51d7-d881-4193-9d4e-76da6be3f776",
   "metadata": {},
   "outputs": [],
   "source": []
  },
  {
   "cell_type": "code",
   "execution_count": null,
   "id": "284b34b3-9f15-4da6-b943-3ebb8fbc8743",
   "metadata": {},
   "outputs": [],
   "source": []
  },
  {
   "cell_type": "code",
   "execution_count": null,
   "id": "4e1aca40-d6f8-42ca-b918-37266cfd5887",
   "metadata": {},
   "outputs": [],
   "source": []
  },
  {
   "cell_type": "code",
   "execution_count": null,
   "id": "8d8fcfe4-090b-46e3-b746-140b334c5e8b",
   "metadata": {},
   "outputs": [],
   "source": []
  },
  {
   "cell_type": "code",
   "execution_count": null,
   "id": "a555a6cc-0820-4a4f-bf72-b6e11ae372ef",
   "metadata": {},
   "outputs": [],
   "source": []
  },
  {
   "cell_type": "code",
   "execution_count": null,
   "id": "524e3377-adbd-4756-afd5-4bfd3a30c420",
   "metadata": {},
   "outputs": [],
   "source": []
  },
  {
   "cell_type": "code",
   "execution_count": null,
   "id": "f2567446-fb31-44eb-aa39-0a0f82f4f83f",
   "metadata": {},
   "outputs": [],
   "source": []
  },
  {
   "cell_type": "code",
   "execution_count": null,
   "id": "dbbe04ea-ed29-43c0-99de-889f4115525d",
   "metadata": {},
   "outputs": [],
   "source": []
  },
  {
   "cell_type": "code",
   "execution_count": null,
   "id": "c7ef49e5-fd5e-47d2-9902-140c67467f67",
   "metadata": {},
   "outputs": [],
   "source": []
  },
  {
   "cell_type": "code",
   "execution_count": null,
   "id": "8f63192f-ae3c-4def-a38a-a9134d03a73c",
   "metadata": {},
   "outputs": [],
   "source": []
  },
  {
   "cell_type": "code",
   "execution_count": null,
   "id": "bab63fb0-f333-41a4-a1ad-97173873906c",
   "metadata": {},
   "outputs": [],
   "source": []
  },
  {
   "cell_type": "code",
   "execution_count": null,
   "id": "c79fb1f0-888c-4ef7-8977-942ed6b47ae4",
   "metadata": {},
   "outputs": [],
   "source": []
  },
  {
   "cell_type": "code",
   "execution_count": null,
   "id": "e11894cc-62ae-4f5c-8930-de6eca4a045e",
   "metadata": {},
   "outputs": [],
   "source": []
  },
  {
   "cell_type": "code",
   "execution_count": null,
   "id": "665c3b4f-507a-4b7d-85fe-d8db66fb3204",
   "metadata": {},
   "outputs": [],
   "source": []
  },
  {
   "cell_type": "code",
   "execution_count": null,
   "id": "3ad0a78d-b5d4-4522-80cf-5c2e513acc00",
   "metadata": {},
   "outputs": [],
   "source": []
  },
  {
   "cell_type": "code",
   "execution_count": null,
   "id": "3f0210a9-ef26-4e01-b1e6-cda884a89bb7",
   "metadata": {},
   "outputs": [],
   "source": []
  },
  {
   "cell_type": "code",
   "execution_count": null,
   "id": "16b54fdb-2a48-4f56-b5bb-766a01dda9cb",
   "metadata": {},
   "outputs": [],
   "source": []
  },
  {
   "cell_type": "code",
   "execution_count": null,
   "id": "62a136e8-1a8f-4192-b2f5-f3c2080ac57e",
   "metadata": {},
   "outputs": [],
   "source": []
  },
  {
   "cell_type": "code",
   "execution_count": null,
   "id": "7b71b1c2-ab98-4f9e-a0a3-4048519cea19",
   "metadata": {},
   "outputs": [],
   "source": []
  },
  {
   "cell_type": "code",
   "execution_count": null,
   "id": "2aaa1b3c-6f49-4de0-a0ac-cc1fdf0ed14b",
   "metadata": {},
   "outputs": [],
   "source": []
  },
  {
   "cell_type": "code",
   "execution_count": null,
   "id": "b55b69f0-2c93-49f8-9b73-aa880ab60c6d",
   "metadata": {},
   "outputs": [],
   "source": []
  },
  {
   "cell_type": "code",
   "execution_count": null,
   "id": "36ebf1c6-2b6f-467d-affa-dc3bf618978e",
   "metadata": {},
   "outputs": [],
   "source": []
  },
  {
   "cell_type": "code",
   "execution_count": null,
   "id": "f6deb318-2d14-4245-8179-3b6bef165753",
   "metadata": {},
   "outputs": [],
   "source": []
  },
  {
   "cell_type": "code",
   "execution_count": null,
   "id": "e5047d9e-9524-42d8-9853-d2bb15fc258a",
   "metadata": {},
   "outputs": [],
   "source": []
  },
  {
   "cell_type": "code",
   "execution_count": null,
   "id": "3bdf889c-92d7-4f76-9b5c-16df8435b8d9",
   "metadata": {},
   "outputs": [],
   "source": []
  },
  {
   "cell_type": "code",
   "execution_count": null,
   "id": "2ed2e2db-3dad-455c-bcc3-93804931d41c",
   "metadata": {},
   "outputs": [],
   "source": []
  },
  {
   "cell_type": "code",
   "execution_count": null,
   "id": "6cb39e9a-9938-4994-8fd9-f1ba191e0737",
   "metadata": {},
   "outputs": [],
   "source": []
  },
  {
   "cell_type": "code",
   "execution_count": null,
   "id": "fc9b45ad-c435-4960-9f5c-8cdadbfeeda1",
   "metadata": {},
   "outputs": [],
   "source": []
  }
 ],
 "metadata": {
  "kernelspec": {
   "display_name": "Python 3 (ipykernel)",
   "language": "python",
   "name": "python3"
  },
  "language_info": {
   "codemirror_mode": {
    "name": "ipython",
    "version": 3
   },
   "file_extension": ".py",
   "mimetype": "text/x-python",
   "name": "python",
   "nbconvert_exporter": "python",
   "pygments_lexer": "ipython3",
   "version": "3.12.4"
  }
 },
 "nbformat": 4,
 "nbformat_minor": 5
}
